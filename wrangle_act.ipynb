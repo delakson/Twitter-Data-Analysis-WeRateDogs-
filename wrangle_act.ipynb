{
 "cells": [
  {
   "cell_type": "markdown",
   "id": "ce183106",
   "metadata": {},
   "source": [
    "# Project: Wrangling and Analyze Data"
   ]
  },
  {
   "cell_type": "code",
   "execution_count": 1,
   "id": "5f7bed91",
   "metadata": {},
   "outputs": [],
   "source": [
    "import tweepy\n",
    "import pandas as pd\n",
    "import numpy as np\n",
    "import matplotlib.pyplot as plt\n",
    "%matplotlib inline\n",
    "import requests\n",
    "import os\n",
    "from tweepy import OAuthHandler\n",
    "import json\n",
    "from timeit import default_timer as timer"
   ]
  },
  {
   "cell_type": "markdown",
   "id": "aef5db38",
   "metadata": {},
   "source": [
    "## Data Gathering\n",
    "In the cell below, gather **all** three pieces of data for this project and load them in the notebook. **Note:** the methods required to gather each data are different.\n"
   ]
  },
  {
   "cell_type": "markdown",
   "id": "54954d35",
   "metadata": {},
   "source": [
    "**1. Directly download the WeRateDogs Twitter archive data (twitter_archive_enhanced.csv)**"
   ]
  },
  {
   "cell_type": "code",
   "execution_count": 2,
   "id": "0ffd57d7",
   "metadata": {},
   "outputs": [],
   "source": [
    "Twitter_archive_data = pd.read_csv('twitter-archive-enhanced.csv')# importing  WeRateDogs Twitter archive data"
   ]
  },
  {
   "cell_type": "code",
   "execution_count": 3,
   "id": "c6cffec1",
   "metadata": {},
   "outputs": [
    {
     "data": {
      "text/plain": [
       "(2356, 17)"
      ]
     },
     "execution_count": 3,
     "metadata": {},
     "output_type": "execute_result"
    }
   ],
   "source": [
    "Twitter_archive_data.shape"
   ]
  },
  {
   "cell_type": "code",
   "execution_count": 4,
   "id": "68d7885c",
   "metadata": {},
   "outputs": [
    {
     "data": {
      "text/html": [
       "<div>\n",
       "<style scoped>\n",
       "    .dataframe tbody tr th:only-of-type {\n",
       "        vertical-align: middle;\n",
       "    }\n",
       "\n",
       "    .dataframe tbody tr th {\n",
       "        vertical-align: top;\n",
       "    }\n",
       "\n",
       "    .dataframe thead th {\n",
       "        text-align: right;\n",
       "    }\n",
       "</style>\n",
       "<table border=\"1\" class=\"dataframe\">\n",
       "  <thead>\n",
       "    <tr style=\"text-align: right;\">\n",
       "      <th></th>\n",
       "      <th>tweet_id</th>\n",
       "      <th>in_reply_to_status_id</th>\n",
       "      <th>in_reply_to_user_id</th>\n",
       "      <th>timestamp</th>\n",
       "      <th>source</th>\n",
       "      <th>text</th>\n",
       "      <th>retweeted_status_id</th>\n",
       "      <th>retweeted_status_user_id</th>\n",
       "      <th>retweeted_status_timestamp</th>\n",
       "      <th>expanded_urls</th>\n",
       "      <th>rating_numerator</th>\n",
       "      <th>rating_denominator</th>\n",
       "      <th>name</th>\n",
       "      <th>doggo</th>\n",
       "      <th>floofer</th>\n",
       "      <th>pupper</th>\n",
       "      <th>puppo</th>\n",
       "    </tr>\n",
       "  </thead>\n",
       "  <tbody>\n",
       "    <tr>\n",
       "      <th>0</th>\n",
       "      <td>892420643555336193</td>\n",
       "      <td>NaN</td>\n",
       "      <td>NaN</td>\n",
       "      <td>2017-08-01 16:23:56 +0000</td>\n",
       "      <td>&lt;a href=\"http://twitter.com/download/iphone\" r...</td>\n",
       "      <td>This is Phineas. He's a mystical boy. Only eve...</td>\n",
       "      <td>NaN</td>\n",
       "      <td>NaN</td>\n",
       "      <td>NaN</td>\n",
       "      <td>https://twitter.com/dog_rates/status/892420643...</td>\n",
       "      <td>13</td>\n",
       "      <td>10</td>\n",
       "      <td>Phineas</td>\n",
       "      <td>None</td>\n",
       "      <td>None</td>\n",
       "      <td>None</td>\n",
       "      <td>None</td>\n",
       "    </tr>\n",
       "    <tr>\n",
       "      <th>1</th>\n",
       "      <td>892177421306343426</td>\n",
       "      <td>NaN</td>\n",
       "      <td>NaN</td>\n",
       "      <td>2017-08-01 00:17:27 +0000</td>\n",
       "      <td>&lt;a href=\"http://twitter.com/download/iphone\" r...</td>\n",
       "      <td>This is Tilly. She's just checking pup on you....</td>\n",
       "      <td>NaN</td>\n",
       "      <td>NaN</td>\n",
       "      <td>NaN</td>\n",
       "      <td>https://twitter.com/dog_rates/status/892177421...</td>\n",
       "      <td>13</td>\n",
       "      <td>10</td>\n",
       "      <td>Tilly</td>\n",
       "      <td>None</td>\n",
       "      <td>None</td>\n",
       "      <td>None</td>\n",
       "      <td>None</td>\n",
       "    </tr>\n",
       "    <tr>\n",
       "      <th>2</th>\n",
       "      <td>891815181378084864</td>\n",
       "      <td>NaN</td>\n",
       "      <td>NaN</td>\n",
       "      <td>2017-07-31 00:18:03 +0000</td>\n",
       "      <td>&lt;a href=\"http://twitter.com/download/iphone\" r...</td>\n",
       "      <td>This is Archie. He is a rare Norwegian Pouncin...</td>\n",
       "      <td>NaN</td>\n",
       "      <td>NaN</td>\n",
       "      <td>NaN</td>\n",
       "      <td>https://twitter.com/dog_rates/status/891815181...</td>\n",
       "      <td>12</td>\n",
       "      <td>10</td>\n",
       "      <td>Archie</td>\n",
       "      <td>None</td>\n",
       "      <td>None</td>\n",
       "      <td>None</td>\n",
       "      <td>None</td>\n",
       "    </tr>\n",
       "    <tr>\n",
       "      <th>3</th>\n",
       "      <td>891689557279858688</td>\n",
       "      <td>NaN</td>\n",
       "      <td>NaN</td>\n",
       "      <td>2017-07-30 15:58:51 +0000</td>\n",
       "      <td>&lt;a href=\"http://twitter.com/download/iphone\" r...</td>\n",
       "      <td>This is Darla. She commenced a snooze mid meal...</td>\n",
       "      <td>NaN</td>\n",
       "      <td>NaN</td>\n",
       "      <td>NaN</td>\n",
       "      <td>https://twitter.com/dog_rates/status/891689557...</td>\n",
       "      <td>13</td>\n",
       "      <td>10</td>\n",
       "      <td>Darla</td>\n",
       "      <td>None</td>\n",
       "      <td>None</td>\n",
       "      <td>None</td>\n",
       "      <td>None</td>\n",
       "    </tr>\n",
       "    <tr>\n",
       "      <th>4</th>\n",
       "      <td>891327558926688256</td>\n",
       "      <td>NaN</td>\n",
       "      <td>NaN</td>\n",
       "      <td>2017-07-29 16:00:24 +0000</td>\n",
       "      <td>&lt;a href=\"http://twitter.com/download/iphone\" r...</td>\n",
       "      <td>This is Franklin. He would like you to stop ca...</td>\n",
       "      <td>NaN</td>\n",
       "      <td>NaN</td>\n",
       "      <td>NaN</td>\n",
       "      <td>https://twitter.com/dog_rates/status/891327558...</td>\n",
       "      <td>12</td>\n",
       "      <td>10</td>\n",
       "      <td>Franklin</td>\n",
       "      <td>None</td>\n",
       "      <td>None</td>\n",
       "      <td>None</td>\n",
       "      <td>None</td>\n",
       "    </tr>\n",
       "    <tr>\n",
       "      <th>...</th>\n",
       "      <td>...</td>\n",
       "      <td>...</td>\n",
       "      <td>...</td>\n",
       "      <td>...</td>\n",
       "      <td>...</td>\n",
       "      <td>...</td>\n",
       "      <td>...</td>\n",
       "      <td>...</td>\n",
       "      <td>...</td>\n",
       "      <td>...</td>\n",
       "      <td>...</td>\n",
       "      <td>...</td>\n",
       "      <td>...</td>\n",
       "      <td>...</td>\n",
       "      <td>...</td>\n",
       "      <td>...</td>\n",
       "      <td>...</td>\n",
       "    </tr>\n",
       "    <tr>\n",
       "      <th>2351</th>\n",
       "      <td>666049248165822465</td>\n",
       "      <td>NaN</td>\n",
       "      <td>NaN</td>\n",
       "      <td>2015-11-16 00:24:50 +0000</td>\n",
       "      <td>&lt;a href=\"http://twitter.com/download/iphone\" r...</td>\n",
       "      <td>Here we have a 1949 1st generation vulpix. Enj...</td>\n",
       "      <td>NaN</td>\n",
       "      <td>NaN</td>\n",
       "      <td>NaN</td>\n",
       "      <td>https://twitter.com/dog_rates/status/666049248...</td>\n",
       "      <td>5</td>\n",
       "      <td>10</td>\n",
       "      <td>None</td>\n",
       "      <td>None</td>\n",
       "      <td>None</td>\n",
       "      <td>None</td>\n",
       "      <td>None</td>\n",
       "    </tr>\n",
       "    <tr>\n",
       "      <th>2352</th>\n",
       "      <td>666044226329800704</td>\n",
       "      <td>NaN</td>\n",
       "      <td>NaN</td>\n",
       "      <td>2015-11-16 00:04:52 +0000</td>\n",
       "      <td>&lt;a href=\"http://twitter.com/download/iphone\" r...</td>\n",
       "      <td>This is a purebred Piers Morgan. Loves to Netf...</td>\n",
       "      <td>NaN</td>\n",
       "      <td>NaN</td>\n",
       "      <td>NaN</td>\n",
       "      <td>https://twitter.com/dog_rates/status/666044226...</td>\n",
       "      <td>6</td>\n",
       "      <td>10</td>\n",
       "      <td>a</td>\n",
       "      <td>None</td>\n",
       "      <td>None</td>\n",
       "      <td>None</td>\n",
       "      <td>None</td>\n",
       "    </tr>\n",
       "    <tr>\n",
       "      <th>2353</th>\n",
       "      <td>666033412701032449</td>\n",
       "      <td>NaN</td>\n",
       "      <td>NaN</td>\n",
       "      <td>2015-11-15 23:21:54 +0000</td>\n",
       "      <td>&lt;a href=\"http://twitter.com/download/iphone\" r...</td>\n",
       "      <td>Here is a very happy pup. Big fan of well-main...</td>\n",
       "      <td>NaN</td>\n",
       "      <td>NaN</td>\n",
       "      <td>NaN</td>\n",
       "      <td>https://twitter.com/dog_rates/status/666033412...</td>\n",
       "      <td>9</td>\n",
       "      <td>10</td>\n",
       "      <td>a</td>\n",
       "      <td>None</td>\n",
       "      <td>None</td>\n",
       "      <td>None</td>\n",
       "      <td>None</td>\n",
       "    </tr>\n",
       "    <tr>\n",
       "      <th>2354</th>\n",
       "      <td>666029285002620928</td>\n",
       "      <td>NaN</td>\n",
       "      <td>NaN</td>\n",
       "      <td>2015-11-15 23:05:30 +0000</td>\n",
       "      <td>&lt;a href=\"http://twitter.com/download/iphone\" r...</td>\n",
       "      <td>This is a western brown Mitsubishi terrier. Up...</td>\n",
       "      <td>NaN</td>\n",
       "      <td>NaN</td>\n",
       "      <td>NaN</td>\n",
       "      <td>https://twitter.com/dog_rates/status/666029285...</td>\n",
       "      <td>7</td>\n",
       "      <td>10</td>\n",
       "      <td>a</td>\n",
       "      <td>None</td>\n",
       "      <td>None</td>\n",
       "      <td>None</td>\n",
       "      <td>None</td>\n",
       "    </tr>\n",
       "    <tr>\n",
       "      <th>2355</th>\n",
       "      <td>666020888022790149</td>\n",
       "      <td>NaN</td>\n",
       "      <td>NaN</td>\n",
       "      <td>2015-11-15 22:32:08 +0000</td>\n",
       "      <td>&lt;a href=\"http://twitter.com/download/iphone\" r...</td>\n",
       "      <td>Here we have a Japanese Irish Setter. Lost eye...</td>\n",
       "      <td>NaN</td>\n",
       "      <td>NaN</td>\n",
       "      <td>NaN</td>\n",
       "      <td>https://twitter.com/dog_rates/status/666020888...</td>\n",
       "      <td>8</td>\n",
       "      <td>10</td>\n",
       "      <td>None</td>\n",
       "      <td>None</td>\n",
       "      <td>None</td>\n",
       "      <td>None</td>\n",
       "      <td>None</td>\n",
       "    </tr>\n",
       "  </tbody>\n",
       "</table>\n",
       "<p>2356 rows × 17 columns</p>\n",
       "</div>"
      ],
      "text/plain": [
       "                tweet_id  in_reply_to_status_id  in_reply_to_user_id  \\\n",
       "0     892420643555336193                    NaN                  NaN   \n",
       "1     892177421306343426                    NaN                  NaN   \n",
       "2     891815181378084864                    NaN                  NaN   \n",
       "3     891689557279858688                    NaN                  NaN   \n",
       "4     891327558926688256                    NaN                  NaN   \n",
       "...                  ...                    ...                  ...   \n",
       "2351  666049248165822465                    NaN                  NaN   \n",
       "2352  666044226329800704                    NaN                  NaN   \n",
       "2353  666033412701032449                    NaN                  NaN   \n",
       "2354  666029285002620928                    NaN                  NaN   \n",
       "2355  666020888022790149                    NaN                  NaN   \n",
       "\n",
       "                      timestamp  \\\n",
       "0     2017-08-01 16:23:56 +0000   \n",
       "1     2017-08-01 00:17:27 +0000   \n",
       "2     2017-07-31 00:18:03 +0000   \n",
       "3     2017-07-30 15:58:51 +0000   \n",
       "4     2017-07-29 16:00:24 +0000   \n",
       "...                         ...   \n",
       "2351  2015-11-16 00:24:50 +0000   \n",
       "2352  2015-11-16 00:04:52 +0000   \n",
       "2353  2015-11-15 23:21:54 +0000   \n",
       "2354  2015-11-15 23:05:30 +0000   \n",
       "2355  2015-11-15 22:32:08 +0000   \n",
       "\n",
       "                                                 source  \\\n",
       "0     <a href=\"http://twitter.com/download/iphone\" r...   \n",
       "1     <a href=\"http://twitter.com/download/iphone\" r...   \n",
       "2     <a href=\"http://twitter.com/download/iphone\" r...   \n",
       "3     <a href=\"http://twitter.com/download/iphone\" r...   \n",
       "4     <a href=\"http://twitter.com/download/iphone\" r...   \n",
       "...                                                 ...   \n",
       "2351  <a href=\"http://twitter.com/download/iphone\" r...   \n",
       "2352  <a href=\"http://twitter.com/download/iphone\" r...   \n",
       "2353  <a href=\"http://twitter.com/download/iphone\" r...   \n",
       "2354  <a href=\"http://twitter.com/download/iphone\" r...   \n",
       "2355  <a href=\"http://twitter.com/download/iphone\" r...   \n",
       "\n",
       "                                                   text  retweeted_status_id  \\\n",
       "0     This is Phineas. He's a mystical boy. Only eve...                  NaN   \n",
       "1     This is Tilly. She's just checking pup on you....                  NaN   \n",
       "2     This is Archie. He is a rare Norwegian Pouncin...                  NaN   \n",
       "3     This is Darla. She commenced a snooze mid meal...                  NaN   \n",
       "4     This is Franklin. He would like you to stop ca...                  NaN   \n",
       "...                                                 ...                  ...   \n",
       "2351  Here we have a 1949 1st generation vulpix. Enj...                  NaN   \n",
       "2352  This is a purebred Piers Morgan. Loves to Netf...                  NaN   \n",
       "2353  Here is a very happy pup. Big fan of well-main...                  NaN   \n",
       "2354  This is a western brown Mitsubishi terrier. Up...                  NaN   \n",
       "2355  Here we have a Japanese Irish Setter. Lost eye...                  NaN   \n",
       "\n",
       "      retweeted_status_user_id retweeted_status_timestamp  \\\n",
       "0                          NaN                        NaN   \n",
       "1                          NaN                        NaN   \n",
       "2                          NaN                        NaN   \n",
       "3                          NaN                        NaN   \n",
       "4                          NaN                        NaN   \n",
       "...                        ...                        ...   \n",
       "2351                       NaN                        NaN   \n",
       "2352                       NaN                        NaN   \n",
       "2353                       NaN                        NaN   \n",
       "2354                       NaN                        NaN   \n",
       "2355                       NaN                        NaN   \n",
       "\n",
       "                                          expanded_urls  rating_numerator  \\\n",
       "0     https://twitter.com/dog_rates/status/892420643...                13   \n",
       "1     https://twitter.com/dog_rates/status/892177421...                13   \n",
       "2     https://twitter.com/dog_rates/status/891815181...                12   \n",
       "3     https://twitter.com/dog_rates/status/891689557...                13   \n",
       "4     https://twitter.com/dog_rates/status/891327558...                12   \n",
       "...                                                 ...               ...   \n",
       "2351  https://twitter.com/dog_rates/status/666049248...                 5   \n",
       "2352  https://twitter.com/dog_rates/status/666044226...                 6   \n",
       "2353  https://twitter.com/dog_rates/status/666033412...                 9   \n",
       "2354  https://twitter.com/dog_rates/status/666029285...                 7   \n",
       "2355  https://twitter.com/dog_rates/status/666020888...                 8   \n",
       "\n",
       "      rating_denominator      name doggo floofer pupper puppo  \n",
       "0                     10   Phineas  None    None   None  None  \n",
       "1                     10     Tilly  None    None   None  None  \n",
       "2                     10    Archie  None    None   None  None  \n",
       "3                     10     Darla  None    None   None  None  \n",
       "4                     10  Franklin  None    None   None  None  \n",
       "...                  ...       ...   ...     ...    ...   ...  \n",
       "2351                  10      None  None    None   None  None  \n",
       "2352                  10         a  None    None   None  None  \n",
       "2353                  10         a  None    None   None  None  \n",
       "2354                  10         a  None    None   None  None  \n",
       "2355                  10      None  None    None   None  None  \n",
       "\n",
       "[2356 rows x 17 columns]"
      ]
     },
     "execution_count": 4,
     "metadata": {},
     "output_type": "execute_result"
    }
   ],
   "source": [
    "Twitter_archive_data # checking the dataset"
   ]
  },
  {
   "cell_type": "code",
   "execution_count": 5,
   "id": "3629b27c",
   "metadata": {},
   "outputs": [
    {
     "name": "stdout",
     "output_type": "stream",
     "text": [
      "<class 'pandas.core.frame.DataFrame'>\n",
      "RangeIndex: 2356 entries, 0 to 2355\n",
      "Data columns (total 17 columns):\n",
      " #   Column                      Non-Null Count  Dtype  \n",
      "---  ------                      --------------  -----  \n",
      " 0   tweet_id                    2356 non-null   int64  \n",
      " 1   in_reply_to_status_id       78 non-null     float64\n",
      " 2   in_reply_to_user_id         78 non-null     float64\n",
      " 3   timestamp                   2356 non-null   object \n",
      " 4   source                      2356 non-null   object \n",
      " 5   text                        2356 non-null   object \n",
      " 6   retweeted_status_id         181 non-null    float64\n",
      " 7   retweeted_status_user_id    181 non-null    float64\n",
      " 8   retweeted_status_timestamp  181 non-null    object \n",
      " 9   expanded_urls               2297 non-null   object \n",
      " 10  rating_numerator            2356 non-null   int64  \n",
      " 11  rating_denominator          2356 non-null   int64  \n",
      " 12  name                        2356 non-null   object \n",
      " 13  doggo                       2356 non-null   object \n",
      " 14  floofer                     2356 non-null   object \n",
      " 15  pupper                      2356 non-null   object \n",
      " 16  puppo                       2356 non-null   object \n",
      "dtypes: float64(4), int64(3), object(10)\n",
      "memory usage: 313.0+ KB\n"
     ]
    }
   ],
   "source": [
    "Twitter_archive_data.info()"
   ]
  },
  {
   "cell_type": "markdown",
   "id": "977d4678",
   "metadata": {},
   "source": [
    "**2. Use the Requests library to download the tweet image prediction (image_predictions.tsv)**"
   ]
  },
  {
   "cell_type": "code",
   "execution_count": 6,
   "id": "e1186224",
   "metadata": {},
   "outputs": [],
   "source": [
    "folder = 'image_predictions'\n",
    "# Make directory if it doesn't already exist\n",
    "if not os.path.exists(folder):\n",
    "    os.makedirs(folder)\n",
    "    \n",
    "url = 'https://d17h27t6h515a5.cloudfront.net/topher/2017/August/599fd2ad_image-predictions/image-predictions.tsv'\n",
    "response = requests.get(url)\n",
    "\n",
    "\n",
    "\n",
    "# Save HTML to file\n",
    "with open(os.path.join(folder,url.split('/')[-1]), mode='wb') as file:\n",
    "    file.write(response.content)"
   ]
  },
  {
   "cell_type": "code",
   "execution_count": 7,
   "id": "5bad748f",
   "metadata": {},
   "outputs": [
    {
     "data": {
      "text/plain": [
       "['image-predictions.tsv']"
      ]
     },
     "execution_count": 7,
     "metadata": {},
     "output_type": "execute_result"
    }
   ],
   "source": [
    "os.listdir(folder)"
   ]
  },
  {
   "cell_type": "code",
   "execution_count": 8,
   "id": "7aa5a67c",
   "metadata": {},
   "outputs": [
    {
     "data": {
      "text/html": [
       "<div>\n",
       "<style scoped>\n",
       "    .dataframe tbody tr th:only-of-type {\n",
       "        vertical-align: middle;\n",
       "    }\n",
       "\n",
       "    .dataframe tbody tr th {\n",
       "        vertical-align: top;\n",
       "    }\n",
       "\n",
       "    .dataframe thead th {\n",
       "        text-align: right;\n",
       "    }\n",
       "</style>\n",
       "<table border=\"1\" class=\"dataframe\">\n",
       "  <thead>\n",
       "    <tr style=\"text-align: right;\">\n",
       "      <th></th>\n",
       "      <th>tweet_id</th>\n",
       "      <th>jpg_url</th>\n",
       "      <th>img_num</th>\n",
       "      <th>p1</th>\n",
       "      <th>p1_conf</th>\n",
       "      <th>p1_dog</th>\n",
       "      <th>p2</th>\n",
       "      <th>p2_conf</th>\n",
       "      <th>p2_dog</th>\n",
       "      <th>p3</th>\n",
       "      <th>p3_conf</th>\n",
       "      <th>p3_dog</th>\n",
       "    </tr>\n",
       "  </thead>\n",
       "  <tbody>\n",
       "    <tr>\n",
       "      <th>365</th>\n",
       "      <td>672898206762672129</td>\n",
       "      <td>https://pbs.twimg.com/media/CVadWcCXIAAL4Sh.jpg</td>\n",
       "      <td>1</td>\n",
       "      <td>motor_scooter</td>\n",
       "      <td>0.835819</td>\n",
       "      <td>False</td>\n",
       "      <td>bobsled</td>\n",
       "      <td>0.035856</td>\n",
       "      <td>False</td>\n",
       "      <td>moped</td>\n",
       "      <td>0.033079</td>\n",
       "      <td>False</td>\n",
       "    </tr>\n",
       "    <tr>\n",
       "      <th>1749</th>\n",
       "      <td>823699002998870016</td>\n",
       "      <td>https://pbs.twimg.com/media/C25d3nkXEAAFBUN.jpg</td>\n",
       "      <td>1</td>\n",
       "      <td>cairn</td>\n",
       "      <td>0.203999</td>\n",
       "      <td>True</td>\n",
       "      <td>snorkel</td>\n",
       "      <td>0.171893</td>\n",
       "      <td>False</td>\n",
       "      <td>Norfolk_terrier</td>\n",
       "      <td>0.107543</td>\n",
       "      <td>True</td>\n",
       "    </tr>\n",
       "    <tr>\n",
       "      <th>1134</th>\n",
       "      <td>728653952833728512</td>\n",
       "      <td>https://pbs.twimg.com/media/Chyy5lQWUAEzxSL.jpg</td>\n",
       "      <td>2</td>\n",
       "      <td>window_shade</td>\n",
       "      <td>0.594333</td>\n",
       "      <td>False</td>\n",
       "      <td>studio_couch</td>\n",
       "      <td>0.053515</td>\n",
       "      <td>False</td>\n",
       "      <td>rotisserie</td>\n",
       "      <td>0.041248</td>\n",
       "      <td>False</td>\n",
       "    </tr>\n",
       "    <tr>\n",
       "      <th>442</th>\n",
       "      <td>674632714662858753</td>\n",
       "      <td>https://pbs.twimg.com/media/CVzG3yOVAAAqi9I.jpg</td>\n",
       "      <td>1</td>\n",
       "      <td>jellyfish</td>\n",
       "      <td>0.432748</td>\n",
       "      <td>False</td>\n",
       "      <td>goldfish</td>\n",
       "      <td>0.113111</td>\n",
       "      <td>False</td>\n",
       "      <td>coral_reef</td>\n",
       "      <td>0.087047</td>\n",
       "      <td>False</td>\n",
       "    </tr>\n",
       "    <tr>\n",
       "      <th>849</th>\n",
       "      <td>695629776980148225</td>\n",
       "      <td>https://pbs.twimg.com/media/Cadfl6zWcAEZqIW.jpg</td>\n",
       "      <td>1</td>\n",
       "      <td>Old_English_sheepdog</td>\n",
       "      <td>0.693857</td>\n",
       "      <td>True</td>\n",
       "      <td>otterhound</td>\n",
       "      <td>0.232117</td>\n",
       "      <td>True</td>\n",
       "      <td>West_Highland_white_terrier</td>\n",
       "      <td>0.012867</td>\n",
       "      <td>True</td>\n",
       "    </tr>\n",
       "  </tbody>\n",
       "</table>\n",
       "</div>"
      ],
      "text/plain": [
       "                tweet_id                                          jpg_url  \\\n",
       "365   672898206762672129  https://pbs.twimg.com/media/CVadWcCXIAAL4Sh.jpg   \n",
       "1749  823699002998870016  https://pbs.twimg.com/media/C25d3nkXEAAFBUN.jpg   \n",
       "1134  728653952833728512  https://pbs.twimg.com/media/Chyy5lQWUAEzxSL.jpg   \n",
       "442   674632714662858753  https://pbs.twimg.com/media/CVzG3yOVAAAqi9I.jpg   \n",
       "849   695629776980148225  https://pbs.twimg.com/media/Cadfl6zWcAEZqIW.jpg   \n",
       "\n",
       "      img_num                    p1   p1_conf  p1_dog            p2   p2_conf  \\\n",
       "365         1         motor_scooter  0.835819   False       bobsled  0.035856   \n",
       "1749        1                 cairn  0.203999    True       snorkel  0.171893   \n",
       "1134        2          window_shade  0.594333   False  studio_couch  0.053515   \n",
       "442         1             jellyfish  0.432748   False      goldfish  0.113111   \n",
       "849         1  Old_English_sheepdog  0.693857    True    otterhound  0.232117   \n",
       "\n",
       "      p2_dog                           p3   p3_conf  p3_dog  \n",
       "365    False                        moped  0.033079   False  \n",
       "1749   False              Norfolk_terrier  0.107543    True  \n",
       "1134   False                   rotisserie  0.041248   False  \n",
       "442    False                   coral_reef  0.087047   False  \n",
       "849     True  West_Highland_white_terrier  0.012867    True  "
      ]
     },
     "execution_count": 8,
     "metadata": {},
     "output_type": "execute_result"
    }
   ],
   "source": [
    "image=pd.read_csv('image_predictions/image-predictions.tsv',sep='\\t')# reading the image_prediction tsv \n",
    "image.sample(5)"
   ]
  },
  {
   "cell_type": "code",
   "execution_count": 9,
   "id": "4bb4e608",
   "metadata": {},
   "outputs": [
    {
     "data": {
      "text/plain": [
       "(2075, 12)"
      ]
     },
     "execution_count": 9,
     "metadata": {},
     "output_type": "execute_result"
    }
   ],
   "source": [
    "image.shape"
   ]
  },
  {
   "cell_type": "code",
   "execution_count": 10,
   "id": "37014a6b",
   "metadata": {},
   "outputs": [
    {
     "name": "stdout",
     "output_type": "stream",
     "text": [
      "<class 'pandas.core.frame.DataFrame'>\n",
      "RangeIndex: 2075 entries, 0 to 2074\n",
      "Data columns (total 12 columns):\n",
      " #   Column    Non-Null Count  Dtype  \n",
      "---  ------    --------------  -----  \n",
      " 0   tweet_id  2075 non-null   int64  \n",
      " 1   jpg_url   2075 non-null   object \n",
      " 2   img_num   2075 non-null   int64  \n",
      " 3   p1        2075 non-null   object \n",
      " 4   p1_conf   2075 non-null   float64\n",
      " 5   p1_dog    2075 non-null   bool   \n",
      " 6   p2        2075 non-null   object \n",
      " 7   p2_conf   2075 non-null   float64\n",
      " 8   p2_dog    2075 non-null   bool   \n",
      " 9   p3        2075 non-null   object \n",
      " 10  p3_conf   2075 non-null   float64\n",
      " 11  p3_dog    2075 non-null   bool   \n",
      "dtypes: bool(3), float64(3), int64(2), object(4)\n",
      "memory usage: 152.1+ KB\n"
     ]
    }
   ],
   "source": [
    "image.info()"
   ]
  },
  {
   "cell_type": "markdown",
   "id": "c2ce1e31",
   "metadata": {},
   "source": [
    "**3. Use the Tweepy library to query additional data via the Twitter API (tweet_json.txt)**"
   ]
  },
  {
   "cell_type": "code",
   "execution_count": 11,
   "id": "79eda9b3",
   "metadata": {},
   "outputs": [],
   "source": [
    "# Query Twitter API for each tweet in the Twitter archive and save JSON in a text file\n",
    "# These are hidden to comply with Twitter's API terms and conditions\n",
    "\n",
    "# %run ./keys.ipynb"
   ]
  },
  {
   "cell_type": "code",
   "execution_count": 12,
   "id": "cdc9ec3d",
   "metadata": {},
   "outputs": [],
   "source": [
    "# auth = OAuthHandler(API_Key, API_Secret)\n",
    "# auth.set_access_token(Access_Token, Access_Token_Secret)"
   ]
  },
  {
   "cell_type": "code",
   "execution_count": 13,
   "id": "44a0953a",
   "metadata": {},
   "outputs": [],
   "source": [
    "# api = tweepy.API(auth, wait_on_rate_limit=True)"
   ]
  },
  {
   "cell_type": "code",
   "execution_count": 14,
   "id": "413b4e78",
   "metadata": {},
   "outputs": [],
   "source": [
    "# tweet_ids = Twitter_archive_data.tweet_id.values\n",
    "# len(tweet_ids)"
   ]
  },
  {
   "cell_type": "code",
   "execution_count": 15,
   "id": "24cb298a",
   "metadata": {},
   "outputs": [],
   "source": [
    "# # Query Twitter's API for JSON data for each tweet ID in the Twitter archive\n",
    "# count = 0\n",
    "# fails_dict = {}\n",
    "# start = timer()\n",
    "# # Save each tweet's returned JSON as a new line in a .txt file\n",
    "# with open('tweet_json.txt', 'w') as outfile:\n",
    "#     # This loop will likely take 20-30 minutes to run because of Twitter's rate limit\n",
    "#     for tweet_id in tweet_ids:\n",
    "#         count += 1\n",
    "#         print(str(count) + \": \" + str(tweet_id))\n",
    "#         try:\n",
    "#             tweet = api.get_status(tweet_id, tweet_mode='extended')\n",
    "#             print(\"Success\")\n",
    "#             json.dump(tweet._json, outfile)\n",
    "#             outfile.write('\\n')\n",
    "#         except  tweepy.errors.TweepyException as e:\n",
    "#             print(\"Fail\")\n",
    "#             fails_dict[tweet_id] = e\n",
    "#             pass\n",
    "# end = timer()\n",
    "# print(end - start)\n",
    "# print(fails_dict)\n"
   ]
  },
  {
   "cell_type": "code",
   "execution_count": 16,
   "id": "4d5b3523",
   "metadata": {},
   "outputs": [],
   "source": [
    "df_list =[]\n",
    "\n",
    "with open('tweet_json.txt','r') as file:\n",
    "    for lines in file:\n",
    "        tweets = json.loads(lines)\n",
    "        tweet_id=tweets['id']\n",
    "        retweet_count =tweets['retweet_count']\n",
    "        favorite_count =tweets['favorite_count']\n",
    "        df_list.append({'tweet_id':str(tweet_id),\n",
    "                        'retweet_count':int(retweet_count),\n",
    "                        'favorite_count': int(favorite_count)})\n",
    "        \n",
    "df_tweetdata = pd.DataFrame(df_list, columns=['tweet_id','retweet_count','favorite_count'])"
   ]
  },
  {
   "cell_type": "code",
   "execution_count": 17,
   "id": "3b84b395",
   "metadata": {},
   "outputs": [
    {
     "data": {
      "text/html": [
       "<div>\n",
       "<style scoped>\n",
       "    .dataframe tbody tr th:only-of-type {\n",
       "        vertical-align: middle;\n",
       "    }\n",
       "\n",
       "    .dataframe tbody tr th {\n",
       "        vertical-align: top;\n",
       "    }\n",
       "\n",
       "    .dataframe thead th {\n",
       "        text-align: right;\n",
       "    }\n",
       "</style>\n",
       "<table border=\"1\" class=\"dataframe\">\n",
       "  <thead>\n",
       "    <tr style=\"text-align: right;\">\n",
       "      <th></th>\n",
       "      <th>tweet_id</th>\n",
       "      <th>retweet_count</th>\n",
       "      <th>favorite_count</th>\n",
       "    </tr>\n",
       "  </thead>\n",
       "  <tbody>\n",
       "    <tr>\n",
       "      <th>0</th>\n",
       "      <td>892420643555336193</td>\n",
       "      <td>7010</td>\n",
       "      <td>33828</td>\n",
       "    </tr>\n",
       "    <tr>\n",
       "      <th>1</th>\n",
       "      <td>892177421306343426</td>\n",
       "      <td>5302</td>\n",
       "      <td>29343</td>\n",
       "    </tr>\n",
       "    <tr>\n",
       "      <th>2</th>\n",
       "      <td>891815181378084864</td>\n",
       "      <td>3482</td>\n",
       "      <td>22069</td>\n",
       "    </tr>\n",
       "    <tr>\n",
       "      <th>3</th>\n",
       "      <td>891689557279858688</td>\n",
       "      <td>7227</td>\n",
       "      <td>36955</td>\n",
       "    </tr>\n",
       "    <tr>\n",
       "      <th>4</th>\n",
       "      <td>891327558926688256</td>\n",
       "      <td>7765</td>\n",
       "      <td>35323</td>\n",
       "    </tr>\n",
       "    <tr>\n",
       "      <th>...</th>\n",
       "      <td>...</td>\n",
       "      <td>...</td>\n",
       "      <td>...</td>\n",
       "    </tr>\n",
       "    <tr>\n",
       "      <th>2322</th>\n",
       "      <td>666049248165822465</td>\n",
       "      <td>37</td>\n",
       "      <td>89</td>\n",
       "    </tr>\n",
       "    <tr>\n",
       "      <th>2323</th>\n",
       "      <td>666044226329800704</td>\n",
       "      <td>115</td>\n",
       "      <td>247</td>\n",
       "    </tr>\n",
       "    <tr>\n",
       "      <th>2324</th>\n",
       "      <td>666033412701032449</td>\n",
       "      <td>36</td>\n",
       "      <td>100</td>\n",
       "    </tr>\n",
       "    <tr>\n",
       "      <th>2325</th>\n",
       "      <td>666029285002620928</td>\n",
       "      <td>39</td>\n",
       "      <td>112</td>\n",
       "    </tr>\n",
       "    <tr>\n",
       "      <th>2326</th>\n",
       "      <td>666020888022790149</td>\n",
       "      <td>423</td>\n",
       "      <td>2294</td>\n",
       "    </tr>\n",
       "  </tbody>\n",
       "</table>\n",
       "<p>2327 rows × 3 columns</p>\n",
       "</div>"
      ],
      "text/plain": [
       "                tweet_id  retweet_count  favorite_count\n",
       "0     892420643555336193           7010           33828\n",
       "1     892177421306343426           5302           29343\n",
       "2     891815181378084864           3482           22069\n",
       "3     891689557279858688           7227           36955\n",
       "4     891327558926688256           7765           35323\n",
       "...                  ...            ...             ...\n",
       "2322  666049248165822465             37              89\n",
       "2323  666044226329800704            115             247\n",
       "2324  666033412701032449             36             100\n",
       "2325  666029285002620928             39             112\n",
       "2326  666020888022790149            423            2294\n",
       "\n",
       "[2327 rows x 3 columns]"
      ]
     },
     "execution_count": 17,
     "metadata": {},
     "output_type": "execute_result"
    }
   ],
   "source": [
    "df_tweetdata"
   ]
  },
  {
   "cell_type": "code",
   "execution_count": 18,
   "id": "cc06d295",
   "metadata": {},
   "outputs": [
    {
     "data": {
      "text/plain": [
       "(2327, 3)"
      ]
     },
     "execution_count": 18,
     "metadata": {},
     "output_type": "execute_result"
    }
   ],
   "source": [
    "df_tweetdata.shape"
   ]
  },
  {
   "cell_type": "code",
   "execution_count": 19,
   "id": "4c9469d6",
   "metadata": {},
   "outputs": [
    {
     "name": "stdout",
     "output_type": "stream",
     "text": [
      "<class 'pandas.core.frame.DataFrame'>\n",
      "RangeIndex: 2327 entries, 0 to 2326\n",
      "Data columns (total 3 columns):\n",
      " #   Column          Non-Null Count  Dtype \n",
      "---  ------          --------------  ----- \n",
      " 0   tweet_id        2327 non-null   object\n",
      " 1   retweet_count   2327 non-null   int64 \n",
      " 2   favorite_count  2327 non-null   int64 \n",
      "dtypes: int64(2), object(1)\n",
      "memory usage: 54.7+ KB\n"
     ]
    }
   ],
   "source": [
    "df_tweetdata.info()"
   ]
  },
  {
   "cell_type": "code",
   "execution_count": 20,
   "id": "f6ce2a32",
   "metadata": {},
   "outputs": [
    {
     "data": {
      "text/html": [
       "<div>\n",
       "<style scoped>\n",
       "    .dataframe tbody tr th:only-of-type {\n",
       "        vertical-align: middle;\n",
       "    }\n",
       "\n",
       "    .dataframe tbody tr th {\n",
       "        vertical-align: top;\n",
       "    }\n",
       "\n",
       "    .dataframe thead th {\n",
       "        text-align: right;\n",
       "    }\n",
       "</style>\n",
       "<table border=\"1\" class=\"dataframe\">\n",
       "  <thead>\n",
       "    <tr style=\"text-align: right;\">\n",
       "      <th></th>\n",
       "      <th>retweet_count</th>\n",
       "      <th>favorite_count</th>\n",
       "    </tr>\n",
       "  </thead>\n",
       "  <tbody>\n",
       "    <tr>\n",
       "      <th>count</th>\n",
       "      <td>2327.000000</td>\n",
       "      <td>2327.000000</td>\n",
       "    </tr>\n",
       "    <tr>\n",
       "      <th>mean</th>\n",
       "      <td>2472.366137</td>\n",
       "      <td>7058.122475</td>\n",
       "    </tr>\n",
       "    <tr>\n",
       "      <th>std</th>\n",
       "      <td>4187.046127</td>\n",
       "      <td>10967.791581</td>\n",
       "    </tr>\n",
       "    <tr>\n",
       "      <th>min</th>\n",
       "      <td>1.000000</td>\n",
       "      <td>0.000000</td>\n",
       "    </tr>\n",
       "    <tr>\n",
       "      <th>25%</th>\n",
       "      <td>495.000000</td>\n",
       "      <td>1226.000000</td>\n",
       "    </tr>\n",
       "    <tr>\n",
       "      <th>50%</th>\n",
       "      <td>1149.000000</td>\n",
       "      <td>3053.000000</td>\n",
       "    </tr>\n",
       "    <tr>\n",
       "      <th>75%</th>\n",
       "      <td>2863.500000</td>\n",
       "      <td>8611.500000</td>\n",
       "    </tr>\n",
       "    <tr>\n",
       "      <th>max</th>\n",
       "      <td>70786.000000</td>\n",
       "      <td>144955.000000</td>\n",
       "    </tr>\n",
       "  </tbody>\n",
       "</table>\n",
       "</div>"
      ],
      "text/plain": [
       "       retweet_count  favorite_count\n",
       "count    2327.000000     2327.000000\n",
       "mean     2472.366137     7058.122475\n",
       "std      4187.046127    10967.791581\n",
       "min         1.000000        0.000000\n",
       "25%       495.000000     1226.000000\n",
       "50%      1149.000000     3053.000000\n",
       "75%      2863.500000     8611.500000\n",
       "max     70786.000000   144955.000000"
      ]
     },
     "execution_count": 20,
     "metadata": {},
     "output_type": "execute_result"
    }
   ],
   "source": [
    "df_tweetdata.describe()"
   ]
  },
  {
   "cell_type": "code",
   "execution_count": null,
   "id": "d160592d",
   "metadata": {},
   "outputs": [],
   "source": []
  },
  {
   "cell_type": "markdown",
   "id": "759f4249",
   "metadata": {},
   "source": [
    "## Assessing Data\n",
    "In this section, detect and document at least **eight (8) quality issues and two (2) tidiness issue**. You must use **both** visual assessment\n",
    "programmatic assessement to assess the data.\n",
    "\n",
    "**Note:** pay attention to the following key points when you access the data.\n",
    "\n",
    "* You only want original ratings (no retweets) that have images. Though there are 5000+ tweets in the dataset, not all are dog ratings and some are retweets.\n",
    "* Assessing and cleaning the entire dataset completely would require a lot of time, and is not necessary to practice and demonstrate your skills in data wrangling. Therefore, the requirements of this project are only to assess and clean at least 8 quality issues and at least 2 tidiness issues in this dataset.\n",
    "* The fact that the rating numerators are greater than the denominators does not need to be cleaned. This [unique rating system](http://knowyourmeme.com/memes/theyre-good-dogs-brent) is a big part of the popularity of WeRateDogs.\n",
    "* You do not need to gather the tweets beyond August 1st, 2017. You can, but note that you won't be able to gather the image predictions for these tweets since you don't have access to the algorithm used.\n",
    "\n"
   ]
  },
  {
   "cell_type": "code",
   "execution_count": null,
   "id": "c7ca44ac",
   "metadata": {},
   "outputs": [],
   "source": []
  },
  {
   "cell_type": "markdown",
   "id": "ec3cd4fc",
   "metadata": {},
   "source": [
    "### Quality issues\n",
    "1.Twitter_archive_data: Dog name are not consistence , some rows has dog name as ( 'a,an,the,my,very,such,his....')\n",
    "\n",
    "2.Twitter_archive_data:  tweet_id is integer,timestamp is object(wrong datatype)\n",
    "\n",
    "3.Twitter_archive_data :  removing the retweets and replies. \n",
    "\n",
    "4.Twitter_archive_data:Extract the main_source of tweets from source cloumn\n",
    "\n",
    "5.master : Removing outliers (rating_numerator ,rating_denominator)\n",
    "\n",
    "6.image : p1,p2,p3 has a mixture of uppercase and lowercase\n",
    "\n",
    "7.image:p1,p2,p3 has a mixture of hypen and Underscore\n",
    "\n",
    "8.image: Renaming columns"
   ]
  },
  {
   "cell_type": "markdown",
   "id": "1e1562f9",
   "metadata": {},
   "source": [
    "### Tidiness issues\n",
    "1.image & df_tweetdata:These  data are part of the same observation unit as the Twitter_archive_data ,(one table with information about  dog rating)\n",
    "\n",
    "2.There are multiple dog stages columns present e.g. doggo, pupper, etc. They should be merged into 1 column "
   ]
  },
  {
   "cell_type": "markdown",
   "id": "2f6772b1",
   "metadata": {},
   "source": [
    "## Cleaning Data\n",
    "In this section, clean **all** of the issues you documented while assessing. \n",
    "\n",
    "**Note:** Make a copy of the original data before cleaning. Cleaning includes merging individual pieces of data according to the rules of [tidy data](https://cran.r-project.org/web/packages/tidyr/vignettes/tidy-data.html). The result should be a high-quality and tidy master pandas DataFrame (or DataFrames, if appropriate)."
   ]
  },
  {
   "cell_type": "code",
   "execution_count": 21,
   "id": "4028ca0a",
   "metadata": {},
   "outputs": [],
   "source": [
    "# Make copies of original pieces of data\n",
    "Twitter_archive_clean = Twitter_archive_data.copy()\n",
    "image_clean = image.copy()\n",
    "tweet_clean = df_tweetdata.copy()"
   ]
  },
  {
   "cell_type": "code",
   "execution_count": 22,
   "id": "c9dfde1b",
   "metadata": {},
   "outputs": [
    {
     "data": {
      "text/html": [
       "<div>\n",
       "<style scoped>\n",
       "    .dataframe tbody tr th:only-of-type {\n",
       "        vertical-align: middle;\n",
       "    }\n",
       "\n",
       "    .dataframe tbody tr th {\n",
       "        vertical-align: top;\n",
       "    }\n",
       "\n",
       "    .dataframe thead th {\n",
       "        text-align: right;\n",
       "    }\n",
       "</style>\n",
       "<table border=\"1\" class=\"dataframe\">\n",
       "  <thead>\n",
       "    <tr style=\"text-align: right;\">\n",
       "      <th></th>\n",
       "      <th>tweet_id</th>\n",
       "      <th>in_reply_to_status_id</th>\n",
       "      <th>in_reply_to_user_id</th>\n",
       "      <th>timestamp</th>\n",
       "      <th>source</th>\n",
       "      <th>text</th>\n",
       "      <th>retweeted_status_id</th>\n",
       "      <th>retweeted_status_user_id</th>\n",
       "      <th>retweeted_status_timestamp</th>\n",
       "      <th>expanded_urls</th>\n",
       "      <th>rating_numerator</th>\n",
       "      <th>rating_denominator</th>\n",
       "      <th>name</th>\n",
       "      <th>doggo</th>\n",
       "      <th>floofer</th>\n",
       "      <th>pupper</th>\n",
       "      <th>puppo</th>\n",
       "    </tr>\n",
       "  </thead>\n",
       "  <tbody>\n",
       "    <tr>\n",
       "      <th>0</th>\n",
       "      <td>892420643555336193</td>\n",
       "      <td>NaN</td>\n",
       "      <td>NaN</td>\n",
       "      <td>2017-08-01 16:23:56 +0000</td>\n",
       "      <td>&lt;a href=\"http://twitter.com/download/iphone\" r...</td>\n",
       "      <td>This is Phineas. He's a mystical boy. Only eve...</td>\n",
       "      <td>NaN</td>\n",
       "      <td>NaN</td>\n",
       "      <td>NaN</td>\n",
       "      <td>https://twitter.com/dog_rates/status/892420643...</td>\n",
       "      <td>13</td>\n",
       "      <td>10</td>\n",
       "      <td>Phineas</td>\n",
       "      <td>None</td>\n",
       "      <td>None</td>\n",
       "      <td>None</td>\n",
       "      <td>None</td>\n",
       "    </tr>\n",
       "    <tr>\n",
       "      <th>1</th>\n",
       "      <td>892177421306343426</td>\n",
       "      <td>NaN</td>\n",
       "      <td>NaN</td>\n",
       "      <td>2017-08-01 00:17:27 +0000</td>\n",
       "      <td>&lt;a href=\"http://twitter.com/download/iphone\" r...</td>\n",
       "      <td>This is Tilly. She's just checking pup on you....</td>\n",
       "      <td>NaN</td>\n",
       "      <td>NaN</td>\n",
       "      <td>NaN</td>\n",
       "      <td>https://twitter.com/dog_rates/status/892177421...</td>\n",
       "      <td>13</td>\n",
       "      <td>10</td>\n",
       "      <td>Tilly</td>\n",
       "      <td>None</td>\n",
       "      <td>None</td>\n",
       "      <td>None</td>\n",
       "      <td>None</td>\n",
       "    </tr>\n",
       "    <tr>\n",
       "      <th>2</th>\n",
       "      <td>891815181378084864</td>\n",
       "      <td>NaN</td>\n",
       "      <td>NaN</td>\n",
       "      <td>2017-07-31 00:18:03 +0000</td>\n",
       "      <td>&lt;a href=\"http://twitter.com/download/iphone\" r...</td>\n",
       "      <td>This is Archie. He is a rare Norwegian Pouncin...</td>\n",
       "      <td>NaN</td>\n",
       "      <td>NaN</td>\n",
       "      <td>NaN</td>\n",
       "      <td>https://twitter.com/dog_rates/status/891815181...</td>\n",
       "      <td>12</td>\n",
       "      <td>10</td>\n",
       "      <td>Archie</td>\n",
       "      <td>None</td>\n",
       "      <td>None</td>\n",
       "      <td>None</td>\n",
       "      <td>None</td>\n",
       "    </tr>\n",
       "    <tr>\n",
       "      <th>3</th>\n",
       "      <td>891689557279858688</td>\n",
       "      <td>NaN</td>\n",
       "      <td>NaN</td>\n",
       "      <td>2017-07-30 15:58:51 +0000</td>\n",
       "      <td>&lt;a href=\"http://twitter.com/download/iphone\" r...</td>\n",
       "      <td>This is Darla. She commenced a snooze mid meal...</td>\n",
       "      <td>NaN</td>\n",
       "      <td>NaN</td>\n",
       "      <td>NaN</td>\n",
       "      <td>https://twitter.com/dog_rates/status/891689557...</td>\n",
       "      <td>13</td>\n",
       "      <td>10</td>\n",
       "      <td>Darla</td>\n",
       "      <td>None</td>\n",
       "      <td>None</td>\n",
       "      <td>None</td>\n",
       "      <td>None</td>\n",
       "    </tr>\n",
       "    <tr>\n",
       "      <th>4</th>\n",
       "      <td>891327558926688256</td>\n",
       "      <td>NaN</td>\n",
       "      <td>NaN</td>\n",
       "      <td>2017-07-29 16:00:24 +0000</td>\n",
       "      <td>&lt;a href=\"http://twitter.com/download/iphone\" r...</td>\n",
       "      <td>This is Franklin. He would like you to stop ca...</td>\n",
       "      <td>NaN</td>\n",
       "      <td>NaN</td>\n",
       "      <td>NaN</td>\n",
       "      <td>https://twitter.com/dog_rates/status/891327558...</td>\n",
       "      <td>12</td>\n",
       "      <td>10</td>\n",
       "      <td>Franklin</td>\n",
       "      <td>None</td>\n",
       "      <td>None</td>\n",
       "      <td>None</td>\n",
       "      <td>None</td>\n",
       "    </tr>\n",
       "  </tbody>\n",
       "</table>\n",
       "</div>"
      ],
      "text/plain": [
       "             tweet_id  in_reply_to_status_id  in_reply_to_user_id  \\\n",
       "0  892420643555336193                    NaN                  NaN   \n",
       "1  892177421306343426                    NaN                  NaN   \n",
       "2  891815181378084864                    NaN                  NaN   \n",
       "3  891689557279858688                    NaN                  NaN   \n",
       "4  891327558926688256                    NaN                  NaN   \n",
       "\n",
       "                   timestamp  \\\n",
       "0  2017-08-01 16:23:56 +0000   \n",
       "1  2017-08-01 00:17:27 +0000   \n",
       "2  2017-07-31 00:18:03 +0000   \n",
       "3  2017-07-30 15:58:51 +0000   \n",
       "4  2017-07-29 16:00:24 +0000   \n",
       "\n",
       "                                              source  \\\n",
       "0  <a href=\"http://twitter.com/download/iphone\" r...   \n",
       "1  <a href=\"http://twitter.com/download/iphone\" r...   \n",
       "2  <a href=\"http://twitter.com/download/iphone\" r...   \n",
       "3  <a href=\"http://twitter.com/download/iphone\" r...   \n",
       "4  <a href=\"http://twitter.com/download/iphone\" r...   \n",
       "\n",
       "                                                text  retweeted_status_id  \\\n",
       "0  This is Phineas. He's a mystical boy. Only eve...                  NaN   \n",
       "1  This is Tilly. She's just checking pup on you....                  NaN   \n",
       "2  This is Archie. He is a rare Norwegian Pouncin...                  NaN   \n",
       "3  This is Darla. She commenced a snooze mid meal...                  NaN   \n",
       "4  This is Franklin. He would like you to stop ca...                  NaN   \n",
       "\n",
       "   retweeted_status_user_id retweeted_status_timestamp  \\\n",
       "0                       NaN                        NaN   \n",
       "1                       NaN                        NaN   \n",
       "2                       NaN                        NaN   \n",
       "3                       NaN                        NaN   \n",
       "4                       NaN                        NaN   \n",
       "\n",
       "                                       expanded_urls  rating_numerator  \\\n",
       "0  https://twitter.com/dog_rates/status/892420643...                13   \n",
       "1  https://twitter.com/dog_rates/status/892177421...                13   \n",
       "2  https://twitter.com/dog_rates/status/891815181...                12   \n",
       "3  https://twitter.com/dog_rates/status/891689557...                13   \n",
       "4  https://twitter.com/dog_rates/status/891327558...                12   \n",
       "\n",
       "   rating_denominator      name doggo floofer pupper puppo  \n",
       "0                  10   Phineas  None    None   None  None  \n",
       "1                  10     Tilly  None    None   None  None  \n",
       "2                  10    Archie  None    None   None  None  \n",
       "3                  10     Darla  None    None   None  None  \n",
       "4                  10  Franklin  None    None   None  None  "
      ]
     },
     "execution_count": 22,
     "metadata": {},
     "output_type": "execute_result"
    }
   ],
   "source": [
    " Twitter_archive_clean.head()"
   ]
  },
  {
   "cell_type": "code",
   "execution_count": 23,
   "id": "dcea5e5e",
   "metadata": {},
   "outputs": [
    {
     "data": {
      "text/html": [
       "<div>\n",
       "<style scoped>\n",
       "    .dataframe tbody tr th:only-of-type {\n",
       "        vertical-align: middle;\n",
       "    }\n",
       "\n",
       "    .dataframe tbody tr th {\n",
       "        vertical-align: top;\n",
       "    }\n",
       "\n",
       "    .dataframe thead th {\n",
       "        text-align: right;\n",
       "    }\n",
       "</style>\n",
       "<table border=\"1\" class=\"dataframe\">\n",
       "  <thead>\n",
       "    <tr style=\"text-align: right;\">\n",
       "      <th></th>\n",
       "      <th>tweet_id</th>\n",
       "      <th>jpg_url</th>\n",
       "      <th>img_num</th>\n",
       "      <th>p1</th>\n",
       "      <th>p1_conf</th>\n",
       "      <th>p1_dog</th>\n",
       "      <th>p2</th>\n",
       "      <th>p2_conf</th>\n",
       "      <th>p2_dog</th>\n",
       "      <th>p3</th>\n",
       "      <th>p3_conf</th>\n",
       "      <th>p3_dog</th>\n",
       "    </tr>\n",
       "  </thead>\n",
       "  <tbody>\n",
       "    <tr>\n",
       "      <th>814</th>\n",
       "      <td>692568918515392513</td>\n",
       "      <td>https://pbs.twimg.com/media/CZx_wV2UMAArgsJ.jpg</td>\n",
       "      <td>2</td>\n",
       "      <td>golden_retriever</td>\n",
       "      <td>0.636845</td>\n",
       "      <td>True</td>\n",
       "      <td>Labrador_retriever</td>\n",
       "      <td>0.163362</td>\n",
       "      <td>True</td>\n",
       "      <td>Pekinese</td>\n",
       "      <td>0.045554</td>\n",
       "      <td>True</td>\n",
       "    </tr>\n",
       "    <tr>\n",
       "      <th>1629</th>\n",
       "      <td>805207613751304193</td>\n",
       "      <td>https://pbs.twimg.com/media/CyysDQlVIAAYgrl.jpg</td>\n",
       "      <td>1</td>\n",
       "      <td>Pembroke</td>\n",
       "      <td>0.244705</td>\n",
       "      <td>True</td>\n",
       "      <td>Rhodesian_ridgeback</td>\n",
       "      <td>0.180461</td>\n",
       "      <td>True</td>\n",
       "      <td>Cardigan</td>\n",
       "      <td>0.094664</td>\n",
       "      <td>True</td>\n",
       "    </tr>\n",
       "    <tr>\n",
       "      <th>132</th>\n",
       "      <td>668466899341221888</td>\n",
       "      <td>https://pbs.twimg.com/media/CUbfGbbWoAApZth.jpg</td>\n",
       "      <td>1</td>\n",
       "      <td>shopping_basket</td>\n",
       "      <td>0.398361</td>\n",
       "      <td>False</td>\n",
       "      <td>hamper</td>\n",
       "      <td>0.363222</td>\n",
       "      <td>False</td>\n",
       "      <td>bassinet</td>\n",
       "      <td>0.084173</td>\n",
       "      <td>False</td>\n",
       "    </tr>\n",
       "    <tr>\n",
       "      <th>831</th>\n",
       "      <td>693642232151285760</td>\n",
       "      <td>https://pbs.twimg.com/media/CaBP7i9W0AAJrIs.jpg</td>\n",
       "      <td>1</td>\n",
       "      <td>Scottish_deerhound</td>\n",
       "      <td>0.111893</td>\n",
       "      <td>True</td>\n",
       "      <td>bluetick</td>\n",
       "      <td>0.074302</td>\n",
       "      <td>True</td>\n",
       "      <td>German_short-haired_pointer</td>\n",
       "      <td>0.067000</td>\n",
       "      <td>True</td>\n",
       "    </tr>\n",
       "    <tr>\n",
       "      <th>1518</th>\n",
       "      <td>787397959788929025</td>\n",
       "      <td>https://pbs.twimg.com/media/Cu1mQsDWEAAU_VQ.jpg</td>\n",
       "      <td>1</td>\n",
       "      <td>Chihuahua</td>\n",
       "      <td>0.900483</td>\n",
       "      <td>True</td>\n",
       "      <td>toy_terrier</td>\n",
       "      <td>0.021084</td>\n",
       "      <td>True</td>\n",
       "      <td>miniature_pinscher</td>\n",
       "      <td>0.019484</td>\n",
       "      <td>True</td>\n",
       "    </tr>\n",
       "    <tr>\n",
       "      <th>1842</th>\n",
       "      <td>838476387338051585</td>\n",
       "      <td>https://pbs.twimg.com/media/C6Ld0wYWgAQQqMC.jpg</td>\n",
       "      <td>3</td>\n",
       "      <td>Great_Pyrenees</td>\n",
       "      <td>0.997692</td>\n",
       "      <td>True</td>\n",
       "      <td>kuvasz</td>\n",
       "      <td>0.001001</td>\n",
       "      <td>True</td>\n",
       "      <td>Newfoundland</td>\n",
       "      <td>0.000405</td>\n",
       "      <td>True</td>\n",
       "    </tr>\n",
       "    <tr>\n",
       "      <th>1973</th>\n",
       "      <td>869702957897576449</td>\n",
       "      <td>https://pbs.twimg.com/media/DBHOOfOXoAABKlU.jpg</td>\n",
       "      <td>1</td>\n",
       "      <td>Pembroke</td>\n",
       "      <td>0.993449</td>\n",
       "      <td>True</td>\n",
       "      <td>Cardigan</td>\n",
       "      <td>0.006325</td>\n",
       "      <td>True</td>\n",
       "      <td>Chihuahua</td>\n",
       "      <td>0.000178</td>\n",
       "      <td>True</td>\n",
       "    </tr>\n",
       "    <tr>\n",
       "      <th>631</th>\n",
       "      <td>680940246314430465</td>\n",
       "      <td>https://pbs.twimg.com/media/CXMvio7WQAAPZJj.jpg</td>\n",
       "      <td>1</td>\n",
       "      <td>soft-coated_wheaten_terrier</td>\n",
       "      <td>0.289598</td>\n",
       "      <td>True</td>\n",
       "      <td>West_Highland_white_terrier</td>\n",
       "      <td>0.157195</td>\n",
       "      <td>True</td>\n",
       "      <td>toy_poodle</td>\n",
       "      <td>0.074435</td>\n",
       "      <td>True</td>\n",
       "    </tr>\n",
       "    <tr>\n",
       "      <th>1382</th>\n",
       "      <td>765395769549590528</td>\n",
       "      <td>https://pbs.twimg.com/media/Cp87Y0jXYAQyjuV.jpg</td>\n",
       "      <td>1</td>\n",
       "      <td>Pembroke</td>\n",
       "      <td>0.509491</td>\n",
       "      <td>True</td>\n",
       "      <td>Cardigan</td>\n",
       "      <td>0.330401</td>\n",
       "      <td>True</td>\n",
       "      <td>Shetland_sheepdog</td>\n",
       "      <td>0.038875</td>\n",
       "      <td>True</td>\n",
       "    </tr>\n",
       "    <tr>\n",
       "      <th>744</th>\n",
       "      <td>687480748861947905</td>\n",
       "      <td>https://pbs.twimg.com/media/CYpsFmIWAAAYh9C.jpg</td>\n",
       "      <td>1</td>\n",
       "      <td>English_springer</td>\n",
       "      <td>0.472273</td>\n",
       "      <td>True</td>\n",
       "      <td>English_setter</td>\n",
       "      <td>0.166862</td>\n",
       "      <td>True</td>\n",
       "      <td>Brittany_spaniel</td>\n",
       "      <td>0.163411</td>\n",
       "      <td>True</td>\n",
       "    </tr>\n",
       "  </tbody>\n",
       "</table>\n",
       "</div>"
      ],
      "text/plain": [
       "                tweet_id                                          jpg_url  \\\n",
       "814   692568918515392513  https://pbs.twimg.com/media/CZx_wV2UMAArgsJ.jpg   \n",
       "1629  805207613751304193  https://pbs.twimg.com/media/CyysDQlVIAAYgrl.jpg   \n",
       "132   668466899341221888  https://pbs.twimg.com/media/CUbfGbbWoAApZth.jpg   \n",
       "831   693642232151285760  https://pbs.twimg.com/media/CaBP7i9W0AAJrIs.jpg   \n",
       "1518  787397959788929025  https://pbs.twimg.com/media/Cu1mQsDWEAAU_VQ.jpg   \n",
       "1842  838476387338051585  https://pbs.twimg.com/media/C6Ld0wYWgAQQqMC.jpg   \n",
       "1973  869702957897576449  https://pbs.twimg.com/media/DBHOOfOXoAABKlU.jpg   \n",
       "631   680940246314430465  https://pbs.twimg.com/media/CXMvio7WQAAPZJj.jpg   \n",
       "1382  765395769549590528  https://pbs.twimg.com/media/Cp87Y0jXYAQyjuV.jpg   \n",
       "744   687480748861947905  https://pbs.twimg.com/media/CYpsFmIWAAAYh9C.jpg   \n",
       "\n",
       "      img_num                           p1   p1_conf  p1_dog  \\\n",
       "814         2             golden_retriever  0.636845    True   \n",
       "1629        1                     Pembroke  0.244705    True   \n",
       "132         1              shopping_basket  0.398361   False   \n",
       "831         1           Scottish_deerhound  0.111893    True   \n",
       "1518        1                    Chihuahua  0.900483    True   \n",
       "1842        3               Great_Pyrenees  0.997692    True   \n",
       "1973        1                     Pembroke  0.993449    True   \n",
       "631         1  soft-coated_wheaten_terrier  0.289598    True   \n",
       "1382        1                     Pembroke  0.509491    True   \n",
       "744         1             English_springer  0.472273    True   \n",
       "\n",
       "                               p2   p2_conf  p2_dog  \\\n",
       "814            Labrador_retriever  0.163362    True   \n",
       "1629          Rhodesian_ridgeback  0.180461    True   \n",
       "132                        hamper  0.363222   False   \n",
       "831                      bluetick  0.074302    True   \n",
       "1518                  toy_terrier  0.021084    True   \n",
       "1842                       kuvasz  0.001001    True   \n",
       "1973                     Cardigan  0.006325    True   \n",
       "631   West_Highland_white_terrier  0.157195    True   \n",
       "1382                     Cardigan  0.330401    True   \n",
       "744                English_setter  0.166862    True   \n",
       "\n",
       "                               p3   p3_conf  p3_dog  \n",
       "814                      Pekinese  0.045554    True  \n",
       "1629                     Cardigan  0.094664    True  \n",
       "132                      bassinet  0.084173   False  \n",
       "831   German_short-haired_pointer  0.067000    True  \n",
       "1518           miniature_pinscher  0.019484    True  \n",
       "1842                 Newfoundland  0.000405    True  \n",
       "1973                    Chihuahua  0.000178    True  \n",
       "631                    toy_poodle  0.074435    True  \n",
       "1382            Shetland_sheepdog  0.038875    True  \n",
       "744              Brittany_spaniel  0.163411    True  "
      ]
     },
     "execution_count": 23,
     "metadata": {},
     "output_type": "execute_result"
    }
   ],
   "source": [
    "image_clean .sample(10)"
   ]
  },
  {
   "cell_type": "code",
   "execution_count": 24,
   "id": "13c88d73",
   "metadata": {},
   "outputs": [
    {
     "data": {
      "text/html": [
       "<div>\n",
       "<style scoped>\n",
       "    .dataframe tbody tr th:only-of-type {\n",
       "        vertical-align: middle;\n",
       "    }\n",
       "\n",
       "    .dataframe tbody tr th {\n",
       "        vertical-align: top;\n",
       "    }\n",
       "\n",
       "    .dataframe thead th {\n",
       "        text-align: right;\n",
       "    }\n",
       "</style>\n",
       "<table border=\"1\" class=\"dataframe\">\n",
       "  <thead>\n",
       "    <tr style=\"text-align: right;\">\n",
       "      <th></th>\n",
       "      <th>tweet_id</th>\n",
       "      <th>retweet_count</th>\n",
       "      <th>favorite_count</th>\n",
       "    </tr>\n",
       "  </thead>\n",
       "  <tbody>\n",
       "    <tr>\n",
       "      <th>0</th>\n",
       "      <td>892420643555336193</td>\n",
       "      <td>7010</td>\n",
       "      <td>33828</td>\n",
       "    </tr>\n",
       "    <tr>\n",
       "      <th>1</th>\n",
       "      <td>892177421306343426</td>\n",
       "      <td>5302</td>\n",
       "      <td>29343</td>\n",
       "    </tr>\n",
       "    <tr>\n",
       "      <th>2</th>\n",
       "      <td>891815181378084864</td>\n",
       "      <td>3482</td>\n",
       "      <td>22069</td>\n",
       "    </tr>\n",
       "    <tr>\n",
       "      <th>3</th>\n",
       "      <td>891689557279858688</td>\n",
       "      <td>7227</td>\n",
       "      <td>36955</td>\n",
       "    </tr>\n",
       "    <tr>\n",
       "      <th>4</th>\n",
       "      <td>891327558926688256</td>\n",
       "      <td>7765</td>\n",
       "      <td>35323</td>\n",
       "    </tr>\n",
       "  </tbody>\n",
       "</table>\n",
       "</div>"
      ],
      "text/plain": [
       "             tweet_id  retweet_count  favorite_count\n",
       "0  892420643555336193           7010           33828\n",
       "1  892177421306343426           5302           29343\n",
       "2  891815181378084864           3482           22069\n",
       "3  891689557279858688           7227           36955\n",
       "4  891327558926688256           7765           35323"
      ]
     },
     "execution_count": 24,
     "metadata": {},
     "output_type": "execute_result"
    }
   ],
   "source": [
    "tweet_clean.head()"
   ]
  },
  {
   "cell_type": "markdown",
   "id": "a7cbf6d9",
   "metadata": {},
   "source": [
    "### Issue #1:\n",
    "\n",
    "**Define:**\n",
    "* convert `tweet_id` to string\n",
    "* convert `timestamp` to datetime"
   ]
  },
  {
   "cell_type": "markdown",
   "id": "bfee939d",
   "metadata": {},
   "source": [
    "**Code**"
   ]
  },
  {
   "cell_type": "code",
   "execution_count": 25,
   "id": "74a40a27",
   "metadata": {},
   "outputs": [],
   "source": [
    "Twitter_archive_clean['tweet_id']=Twitter_archive_clean['tweet_id'].astype(str)\n",
    "image_clean['tweet_id']=image_clean['tweet_id'].astype(str)\n",
    "tweet_clean['tweet_id']=tweet_clean['tweet_id'].astype(str)\n",
    "Twitter_archive_clean['timestamp'] = Twitter_archive_clean['timestamp'].astype('datetime64[ns]')"
   ]
  },
  {
   "cell_type": "markdown",
   "id": "3ba7d24a",
   "metadata": {},
   "source": [
    "**Test**"
   ]
  },
  {
   "cell_type": "code",
   "execution_count": 26,
   "id": "b0df422c",
   "metadata": {},
   "outputs": [
    {
     "name": "stdout",
     "output_type": "stream",
     "text": [
      "<class 'pandas.core.frame.DataFrame'>\n",
      "RangeIndex: 2356 entries, 0 to 2355\n",
      "Data columns (total 17 columns):\n",
      " #   Column                      Non-Null Count  Dtype         \n",
      "---  ------                      --------------  -----         \n",
      " 0   tweet_id                    2356 non-null   object        \n",
      " 1   in_reply_to_status_id       78 non-null     float64       \n",
      " 2   in_reply_to_user_id         78 non-null     float64       \n",
      " 3   timestamp                   2356 non-null   datetime64[ns]\n",
      " 4   source                      2356 non-null   object        \n",
      " 5   text                        2356 non-null   object        \n",
      " 6   retweeted_status_id         181 non-null    float64       \n",
      " 7   retweeted_status_user_id    181 non-null    float64       \n",
      " 8   retweeted_status_timestamp  181 non-null    object        \n",
      " 9   expanded_urls               2297 non-null   object        \n",
      " 10  rating_numerator            2356 non-null   int64         \n",
      " 11  rating_denominator          2356 non-null   int64         \n",
      " 12  name                        2356 non-null   object        \n",
      " 13  doggo                       2356 non-null   object        \n",
      " 14  floofer                     2356 non-null   object        \n",
      " 15  pupper                      2356 non-null   object        \n",
      " 16  puppo                       2356 non-null   object        \n",
      "dtypes: datetime64[ns](1), float64(4), int64(2), object(10)\n",
      "memory usage: 313.0+ KB\n"
     ]
    }
   ],
   "source": [
    "Twitter_archive_clean.info()"
   ]
  },
  {
   "cell_type": "code",
   "execution_count": 27,
   "id": "cbadceab",
   "metadata": {},
   "outputs": [
    {
     "name": "stdout",
     "output_type": "stream",
     "text": [
      "<class 'pandas.core.frame.DataFrame'>\n",
      "RangeIndex: 2075 entries, 0 to 2074\n",
      "Data columns (total 12 columns):\n",
      " #   Column    Non-Null Count  Dtype  \n",
      "---  ------    --------------  -----  \n",
      " 0   tweet_id  2075 non-null   object \n",
      " 1   jpg_url   2075 non-null   object \n",
      " 2   img_num   2075 non-null   int64  \n",
      " 3   p1        2075 non-null   object \n",
      " 4   p1_conf   2075 non-null   float64\n",
      " 5   p1_dog    2075 non-null   bool   \n",
      " 6   p2        2075 non-null   object \n",
      " 7   p2_conf   2075 non-null   float64\n",
      " 8   p2_dog    2075 non-null   bool   \n",
      " 9   p3        2075 non-null   object \n",
      " 10  p3_conf   2075 non-null   float64\n",
      " 11  p3_dog    2075 non-null   bool   \n",
      "dtypes: bool(3), float64(3), int64(1), object(5)\n",
      "memory usage: 152.1+ KB\n"
     ]
    }
   ],
   "source": [
    "image_clean.info()"
   ]
  },
  {
   "cell_type": "code",
   "execution_count": 28,
   "id": "eb7cec54",
   "metadata": {},
   "outputs": [
    {
     "name": "stdout",
     "output_type": "stream",
     "text": [
      "<class 'pandas.core.frame.DataFrame'>\n",
      "RangeIndex: 2327 entries, 0 to 2326\n",
      "Data columns (total 3 columns):\n",
      " #   Column          Non-Null Count  Dtype \n",
      "---  ------          --------------  ----- \n",
      " 0   tweet_id        2327 non-null   object\n",
      " 1   retweet_count   2327 non-null   int64 \n",
      " 2   favorite_count  2327 non-null   int64 \n",
      "dtypes: int64(2), object(1)\n",
      "memory usage: 54.7+ KB\n"
     ]
    }
   ],
   "source": [
    "tweet_clean.info()"
   ]
  },
  {
   "cell_type": "markdown",
   "id": "9b5529d1",
   "metadata": {},
   "source": [
    "### Issue #2:\n",
    "\n",
    "**Define :** \n",
    "* removing the retweets and replies. "
   ]
  },
  {
   "cell_type": "markdown",
   "id": "603ac2e8",
   "metadata": {},
   "source": [
    "**Code**"
   ]
  },
  {
   "cell_type": "markdown",
   "id": "67954119",
   "metadata": {},
   "source": [
    "Step 1: Removing rows that contain retweet and reply"
   ]
  },
  {
   "cell_type": "code",
   "execution_count": 29,
   "id": "529c42c8",
   "metadata": {},
   "outputs": [
    {
     "name": "stdout",
     "output_type": "stream",
     "text": [
      "181\n",
      "78\n"
     ]
    }
   ],
   "source": [
    "print(Twitter_archive_clean.retweeted_status_id.value_counts().sum())\n",
    "print(Twitter_archive_clean.in_reply_to_status_id.value_counts().sum())"
   ]
  },
  {
   "cell_type": "code",
   "execution_count": 30,
   "id": "67446ef9",
   "metadata": {},
   "outputs": [],
   "source": [
    "# Removing rows with retweet\n",
    "Twitter_archive_clean.drop(Twitter_archive_clean[Twitter_archive_clean.retweeted_status_id.notnull()].index, inplace = True)"
   ]
  },
  {
   "cell_type": "code",
   "execution_count": 31,
   "id": "c537f5f8",
   "metadata": {},
   "outputs": [],
   "source": [
    "# Removing rows with retweeted reply\n",
    "Twitter_archive_clean.drop(Twitter_archive_clean[Twitter_archive_clean.in_reply_to_status_id.notnull()].index, inplace = True)"
   ]
  },
  {
   "cell_type": "code",
   "execution_count": 32,
   "id": "16326384",
   "metadata": {},
   "outputs": [
    {
     "name": "stdout",
     "output_type": "stream",
     "text": [
      "0\n",
      "0\n"
     ]
    }
   ],
   "source": [
    "print(Twitter_archive_clean.retweeted_status_id.value_counts().sum())\n",
    "print(Twitter_archive_clean.in_reply_to_status_id.value_counts().sum())"
   ]
  },
  {
   "cell_type": "code",
   "execution_count": 33,
   "id": "133f3fd3",
   "metadata": {},
   "outputs": [
    {
     "name": "stdout",
     "output_type": "stream",
     "text": [
      "<class 'pandas.core.frame.DataFrame'>\n",
      "Int64Index: 2097 entries, 0 to 2355\n",
      "Data columns (total 17 columns):\n",
      " #   Column                      Non-Null Count  Dtype         \n",
      "---  ------                      --------------  -----         \n",
      " 0   tweet_id                    2097 non-null   object        \n",
      " 1   in_reply_to_status_id       0 non-null      float64       \n",
      " 2   in_reply_to_user_id         0 non-null      float64       \n",
      " 3   timestamp                   2097 non-null   datetime64[ns]\n",
      " 4   source                      2097 non-null   object        \n",
      " 5   text                        2097 non-null   object        \n",
      " 6   retweeted_status_id         0 non-null      float64       \n",
      " 7   retweeted_status_user_id    0 non-null      float64       \n",
      " 8   retweeted_status_timestamp  0 non-null      object        \n",
      " 9   expanded_urls               2094 non-null   object        \n",
      " 10  rating_numerator            2097 non-null   int64         \n",
      " 11  rating_denominator          2097 non-null   int64         \n",
      " 12  name                        2097 non-null   object        \n",
      " 13  doggo                       2097 non-null   object        \n",
      " 14  floofer                     2097 non-null   object        \n",
      " 15  pupper                      2097 non-null   object        \n",
      " 16  puppo                       2097 non-null   object        \n",
      "dtypes: datetime64[ns](1), float64(4), int64(2), object(10)\n",
      "memory usage: 294.9+ KB\n"
     ]
    }
   ],
   "source": [
    "Twitter_archive_clean.info()"
   ]
  },
  {
   "cell_type": "markdown",
   "id": "c5ec3476",
   "metadata": {},
   "source": [
    "Step 2: Removing the columns that contain retweet and reply"
   ]
  },
  {
   "cell_type": "code",
   "execution_count": 34,
   "id": "453b5c75",
   "metadata": {},
   "outputs": [],
   "source": [
    "\n",
    "Twitter_archive_clean. drop(['retweeted_status_id','retweeted_status_user_id','retweeted_status_timestamp','in_reply_to_status_id','in_reply_to_user_id'], axis =1,inplace=True)"
   ]
  },
  {
   "cell_type": "markdown",
   "id": "21bb6b5e",
   "metadata": {},
   "source": [
    "**Test**"
   ]
  },
  {
   "cell_type": "code",
   "execution_count": 35,
   "id": "4736a0d9",
   "metadata": {},
   "outputs": [
    {
     "name": "stdout",
     "output_type": "stream",
     "text": [
      "<class 'pandas.core.frame.DataFrame'>\n",
      "Int64Index: 2097 entries, 0 to 2355\n",
      "Data columns (total 12 columns):\n",
      " #   Column              Non-Null Count  Dtype         \n",
      "---  ------              --------------  -----         \n",
      " 0   tweet_id            2097 non-null   object        \n",
      " 1   timestamp           2097 non-null   datetime64[ns]\n",
      " 2   source              2097 non-null   object        \n",
      " 3   text                2097 non-null   object        \n",
      " 4   expanded_urls       2094 non-null   object        \n",
      " 5   rating_numerator    2097 non-null   int64         \n",
      " 6   rating_denominator  2097 non-null   int64         \n",
      " 7   name                2097 non-null   object        \n",
      " 8   doggo               2097 non-null   object        \n",
      " 9   floofer             2097 non-null   object        \n",
      " 10  pupper              2097 non-null   object        \n",
      " 11  puppo               2097 non-null   object        \n",
      "dtypes: datetime64[ns](1), int64(2), object(9)\n",
      "memory usage: 213.0+ KB\n"
     ]
    }
   ],
   "source": [
    "Twitter_archive_clean .info()"
   ]
  },
  {
   "cell_type": "markdown",
   "id": "a6211a34",
   "metadata": {},
   "source": [
    "### Issue #3:\n",
    "\n",
    "**Define:** \n",
    "* convert p1,p2,p3 to lowercase( to make it uniform)\n",
    "* convert p1,p2,p3 to underscore( to make it uniform)"
   ]
  },
  {
   "cell_type": "markdown",
   "id": "cff6f19e",
   "metadata": {},
   "source": [
    "**Code**"
   ]
  },
  {
   "cell_type": "code",
   "execution_count": 36,
   "id": "406d8c06",
   "metadata": {},
   "outputs": [],
   "source": [
    "image_clean['p1']=image_clean['p1'].str.lower()\n",
    "image_clean['p2']=image_clean['p2'].str.lower()\n",
    "image_clean['p3']=image_clean['p3'].str.lower()"
   ]
  },
  {
   "cell_type": "code",
   "execution_count": 37,
   "id": "d6b2a691",
   "metadata": {},
   "outputs": [],
   "source": [
    "image_clean['p1']=image_clean['p1'].str.replace('-', '_')\n",
    "image_clean['p2']=image_clean['p2'].str.replace('-', '_')\n",
    "image_clean['p3']=image_clean['p3'].str.replace('-', '_')"
   ]
  },
  {
   "cell_type": "markdown",
   "id": "9853ac85",
   "metadata": {},
   "source": [
    "**Test**"
   ]
  },
  {
   "cell_type": "code",
   "execution_count": 38,
   "id": "2ecddb30",
   "metadata": {},
   "outputs": [
    {
     "data": {
      "text/html": [
       "<div>\n",
       "<style scoped>\n",
       "    .dataframe tbody tr th:only-of-type {\n",
       "        vertical-align: middle;\n",
       "    }\n",
       "\n",
       "    .dataframe tbody tr th {\n",
       "        vertical-align: top;\n",
       "    }\n",
       "\n",
       "    .dataframe thead th {\n",
       "        text-align: right;\n",
       "    }\n",
       "</style>\n",
       "<table border=\"1\" class=\"dataframe\">\n",
       "  <thead>\n",
       "    <tr style=\"text-align: right;\">\n",
       "      <th></th>\n",
       "      <th>tweet_id</th>\n",
       "      <th>jpg_url</th>\n",
       "      <th>img_num</th>\n",
       "      <th>p1</th>\n",
       "      <th>p1_conf</th>\n",
       "      <th>p1_dog</th>\n",
       "      <th>p2</th>\n",
       "      <th>p2_conf</th>\n",
       "      <th>p2_dog</th>\n",
       "      <th>p3</th>\n",
       "      <th>p3_conf</th>\n",
       "      <th>p3_dog</th>\n",
       "    </tr>\n",
       "  </thead>\n",
       "  <tbody>\n",
       "    <tr>\n",
       "      <th>314</th>\n",
       "      <td>671729906628341761</td>\n",
       "      <td>https://pbs.twimg.com/media/CVJ2yR2UwAAdCzU.jpg</td>\n",
       "      <td>1</td>\n",
       "      <td>kuvasz</td>\n",
       "      <td>0.431469</td>\n",
       "      <td>True</td>\n",
       "      <td>samoyed</td>\n",
       "      <td>0.117122</td>\n",
       "      <td>True</td>\n",
       "      <td>white_wolf</td>\n",
       "      <td>0.090067</td>\n",
       "      <td>False</td>\n",
       "    </tr>\n",
       "    <tr>\n",
       "      <th>414</th>\n",
       "      <td>674008982932058114</td>\n",
       "      <td>https://pbs.twimg.com/media/CVqPkVoU4AAkXA7.jpg</td>\n",
       "      <td>1</td>\n",
       "      <td>jigsaw_puzzle</td>\n",
       "      <td>0.970810</td>\n",
       "      <td>False</td>\n",
       "      <td>prayer_rug</td>\n",
       "      <td>0.011048</td>\n",
       "      <td>False</td>\n",
       "      <td>quill</td>\n",
       "      <td>0.008432</td>\n",
       "      <td>False</td>\n",
       "    </tr>\n",
       "    <tr>\n",
       "      <th>1566</th>\n",
       "      <td>793962221541933056</td>\n",
       "      <td>https://pbs.twimg.com/media/CwS4aqZXUAAe3IO.jpg</td>\n",
       "      <td>1</td>\n",
       "      <td>labrador_retriever</td>\n",
       "      <td>0.861651</td>\n",
       "      <td>True</td>\n",
       "      <td>golden_retriever</td>\n",
       "      <td>0.044462</td>\n",
       "      <td>True</td>\n",
       "      <td>staffordshire_bullterrier</td>\n",
       "      <td>0.016497</td>\n",
       "      <td>True</td>\n",
       "    </tr>\n",
       "    <tr>\n",
       "      <th>1845</th>\n",
       "      <td>838921590096166913</td>\n",
       "      <td>https://pbs.twimg.com/media/C6Ryuf7UoAAFX4a.jpg</td>\n",
       "      <td>1</td>\n",
       "      <td>border_terrier</td>\n",
       "      <td>0.664538</td>\n",
       "      <td>True</td>\n",
       "      <td>brabancon_griffon</td>\n",
       "      <td>0.170451</td>\n",
       "      <td>True</td>\n",
       "      <td>yorkshire_terrier</td>\n",
       "      <td>0.087824</td>\n",
       "      <td>True</td>\n",
       "    </tr>\n",
       "    <tr>\n",
       "      <th>357</th>\n",
       "      <td>672609152938721280</td>\n",
       "      <td>https://pbs.twimg.com/media/CVWWdKLWEAEnSk7.jpg</td>\n",
       "      <td>1</td>\n",
       "      <td>microwave</td>\n",
       "      <td>0.981946</td>\n",
       "      <td>False</td>\n",
       "      <td>rotisserie</td>\n",
       "      <td>0.007472</td>\n",
       "      <td>False</td>\n",
       "      <td>television</td>\n",
       "      <td>0.005881</td>\n",
       "      <td>False</td>\n",
       "    </tr>\n",
       "    <tr>\n",
       "      <th>875</th>\n",
       "      <td>698195409219559425</td>\n",
       "      <td>https://pbs.twimg.com/media/CbB9BTqW8AEVc2A.jpg</td>\n",
       "      <td>1</td>\n",
       "      <td>labrador_retriever</td>\n",
       "      <td>0.643690</td>\n",
       "      <td>True</td>\n",
       "      <td>american_staffordshire_terrier</td>\n",
       "      <td>0.102684</td>\n",
       "      <td>True</td>\n",
       "      <td>dalmatian</td>\n",
       "      <td>0.050008</td>\n",
       "      <td>True</td>\n",
       "    </tr>\n",
       "    <tr>\n",
       "      <th>1982</th>\n",
       "      <td>871762521631449091</td>\n",
       "      <td>https://pbs.twimg.com/media/DBkfY58XcAEdzZy.jpg</td>\n",
       "      <td>2</td>\n",
       "      <td>labrador_retriever</td>\n",
       "      <td>0.921393</td>\n",
       "      <td>True</td>\n",
       "      <td>golden_retriever</td>\n",
       "      <td>0.064608</td>\n",
       "      <td>True</td>\n",
       "      <td>bloodhound</td>\n",
       "      <td>0.003383</td>\n",
       "      <td>True</td>\n",
       "    </tr>\n",
       "    <tr>\n",
       "      <th>1086</th>\n",
       "      <td>718631497683582976</td>\n",
       "      <td>https://pbs.twimg.com/media/CfkXiX6W4AAmICF.jpg</td>\n",
       "      <td>1</td>\n",
       "      <td>pomeranian</td>\n",
       "      <td>0.993718</td>\n",
       "      <td>True</td>\n",
       "      <td>pekinese</td>\n",
       "      <td>0.003611</td>\n",
       "      <td>True</td>\n",
       "      <td>persian_cat</td>\n",
       "      <td>0.000525</td>\n",
       "      <td>False</td>\n",
       "    </tr>\n",
       "    <tr>\n",
       "      <th>1175</th>\n",
       "      <td>737445876994609152</td>\n",
       "      <td>https://pbs.twimg.com/media/CjvvHBwUoAE55WZ.jpg</td>\n",
       "      <td>1</td>\n",
       "      <td>samoyed</td>\n",
       "      <td>0.400568</td>\n",
       "      <td>True</td>\n",
       "      <td>pomeranian</td>\n",
       "      <td>0.331268</td>\n",
       "      <td>True</td>\n",
       "      <td>maltese_dog</td>\n",
       "      <td>0.045426</td>\n",
       "      <td>True</td>\n",
       "    </tr>\n",
       "    <tr>\n",
       "      <th>729</th>\n",
       "      <td>686606069955735556</td>\n",
       "      <td>https://pbs.twimg.com/media/CYdQktMWsAEI29_.jpg</td>\n",
       "      <td>1</td>\n",
       "      <td>labrador_retriever</td>\n",
       "      <td>0.320012</td>\n",
       "      <td>True</td>\n",
       "      <td>ibizan_hound</td>\n",
       "      <td>0.208172</td>\n",
       "      <td>True</td>\n",
       "      <td>saluki</td>\n",
       "      <td>0.078975</td>\n",
       "      <td>True</td>\n",
       "    </tr>\n",
       "  </tbody>\n",
       "</table>\n",
       "</div>"
      ],
      "text/plain": [
       "                tweet_id                                          jpg_url  \\\n",
       "314   671729906628341761  https://pbs.twimg.com/media/CVJ2yR2UwAAdCzU.jpg   \n",
       "414   674008982932058114  https://pbs.twimg.com/media/CVqPkVoU4AAkXA7.jpg   \n",
       "1566  793962221541933056  https://pbs.twimg.com/media/CwS4aqZXUAAe3IO.jpg   \n",
       "1845  838921590096166913  https://pbs.twimg.com/media/C6Ryuf7UoAAFX4a.jpg   \n",
       "357   672609152938721280  https://pbs.twimg.com/media/CVWWdKLWEAEnSk7.jpg   \n",
       "875   698195409219559425  https://pbs.twimg.com/media/CbB9BTqW8AEVc2A.jpg   \n",
       "1982  871762521631449091  https://pbs.twimg.com/media/DBkfY58XcAEdzZy.jpg   \n",
       "1086  718631497683582976  https://pbs.twimg.com/media/CfkXiX6W4AAmICF.jpg   \n",
       "1175  737445876994609152  https://pbs.twimg.com/media/CjvvHBwUoAE55WZ.jpg   \n",
       "729   686606069955735556  https://pbs.twimg.com/media/CYdQktMWsAEI29_.jpg   \n",
       "\n",
       "      img_num                  p1   p1_conf  p1_dog  \\\n",
       "314         1              kuvasz  0.431469    True   \n",
       "414         1       jigsaw_puzzle  0.970810   False   \n",
       "1566        1  labrador_retriever  0.861651    True   \n",
       "1845        1      border_terrier  0.664538    True   \n",
       "357         1           microwave  0.981946   False   \n",
       "875         1  labrador_retriever  0.643690    True   \n",
       "1982        2  labrador_retriever  0.921393    True   \n",
       "1086        1          pomeranian  0.993718    True   \n",
       "1175        1             samoyed  0.400568    True   \n",
       "729         1  labrador_retriever  0.320012    True   \n",
       "\n",
       "                                  p2   p2_conf  p2_dog  \\\n",
       "314                          samoyed  0.117122    True   \n",
       "414                       prayer_rug  0.011048   False   \n",
       "1566                golden_retriever  0.044462    True   \n",
       "1845               brabancon_griffon  0.170451    True   \n",
       "357                       rotisserie  0.007472   False   \n",
       "875   american_staffordshire_terrier  0.102684    True   \n",
       "1982                golden_retriever  0.064608    True   \n",
       "1086                        pekinese  0.003611    True   \n",
       "1175                      pomeranian  0.331268    True   \n",
       "729                     ibizan_hound  0.208172    True   \n",
       "\n",
       "                             p3   p3_conf  p3_dog  \n",
       "314                  white_wolf  0.090067   False  \n",
       "414                       quill  0.008432   False  \n",
       "1566  staffordshire_bullterrier  0.016497    True  \n",
       "1845          yorkshire_terrier  0.087824    True  \n",
       "357                  television  0.005881   False  \n",
       "875                   dalmatian  0.050008    True  \n",
       "1982                 bloodhound  0.003383    True  \n",
       "1086                persian_cat  0.000525   False  \n",
       "1175                maltese_dog  0.045426    True  \n",
       "729                      saluki  0.078975    True  "
      ]
     },
     "execution_count": 38,
     "metadata": {},
     "output_type": "execute_result"
    }
   ],
   "source": [
    "image_clean.sample(10)"
   ]
  },
  {
   "cell_type": "code",
   "execution_count": null,
   "id": "4e62635c",
   "metadata": {},
   "outputs": [],
   "source": []
  },
  {
   "cell_type": "markdown",
   "id": "39808999",
   "metadata": {},
   "source": [
    "### Issue #4:\n",
    "\n",
    "**Define:** \n",
    "* Extract the main_source of tweets"
   ]
  },
  {
   "cell_type": "markdown",
   "id": "d4455a9d",
   "metadata": {},
   "source": [
    "**Code**"
   ]
  },
  {
   "cell_type": "code",
   "execution_count": 39,
   "id": "53bcec51",
   "metadata": {},
   "outputs": [],
   "source": [
    "Twitter_archive_clean['main_source']=Twitter_archive_clean['source'].str.extract('(?:.*/)([a-z]+)(?:\")')"
   ]
  },
  {
   "cell_type": "markdown",
   "id": "69cf4796",
   "metadata": {},
   "source": [
    "**Test**"
   ]
  },
  {
   "cell_type": "code",
   "execution_count": 40,
   "id": "0055f328",
   "metadata": {},
   "outputs": [
    {
     "data": {
      "text/plain": [
       "0       iphone\n",
       "1       iphone\n",
       "2       iphone\n",
       "3       iphone\n",
       "4       iphone\n",
       "         ...  \n",
       "2351    iphone\n",
       "2352    iphone\n",
       "2353    iphone\n",
       "2354    iphone\n",
       "2355    iphone\n",
       "Name: main_source, Length: 2097, dtype: object"
      ]
     },
     "execution_count": 40,
     "metadata": {},
     "output_type": "execute_result"
    }
   ],
   "source": [
    "Twitter_archive_clean['main_source']"
   ]
  },
  {
   "cell_type": "code",
   "execution_count": 41,
   "id": "c802d8a7",
   "metadata": {},
   "outputs": [
    {
     "data": {
      "text/plain": [
       "array(['iphone', nan, 'tweetdeck'], dtype=object)"
      ]
     },
     "execution_count": 41,
     "metadata": {},
     "output_type": "execute_result"
    }
   ],
   "source": [
    "Twitter_archive_clean['main_source'].unique()"
   ]
  },
  {
   "cell_type": "code",
   "execution_count": 42,
   "id": "888e7d98",
   "metadata": {},
   "outputs": [],
   "source": [
    "Twitter_archive_clean.drop(['source'], axis = 1,inplace =True)"
   ]
  },
  {
   "cell_type": "code",
   "execution_count": 43,
   "id": "1815e569",
   "metadata": {},
   "outputs": [],
   "source": [
    "Twitter_archive_clean['main_source']=Twitter_archive_clean['main_source'].fillna('Vine')"
   ]
  },
  {
   "cell_type": "code",
   "execution_count": 44,
   "id": "e36d023d",
   "metadata": {},
   "outputs": [
    {
     "data": {
      "text/plain": [
       "array(['iphone', 'Vine', 'tweetdeck'], dtype=object)"
      ]
     },
     "execution_count": 44,
     "metadata": {},
     "output_type": "execute_result"
    }
   ],
   "source": [
    "Twitter_archive_clean['main_source'].unique()"
   ]
  },
  {
   "cell_type": "markdown",
   "id": "fbf0b9f5",
   "metadata": {},
   "source": [
    "### Issue #5:\n",
    "\n",
    "**Define:** \n",
    "* merging the dog stage into one column"
   ]
  },
  {
   "cell_type": "markdown",
   "id": "17ad9474",
   "metadata": {},
   "source": [
    "**Code**"
   ]
  },
  {
   "cell_type": "code",
   "execution_count": 45,
   "id": "7a7b0362",
   "metadata": {},
   "outputs": [],
   "source": [
    "dog_col = [\"doggo\",\"floofer\",\"pupper\",\"puppo\"]\n",
    "Twitter_archive_clean[dog_col] = Twitter_archive_clean[dog_col].replace({'None':np.nan})"
   ]
  },
  {
   "cell_type": "code",
   "execution_count": 46,
   "id": "22cfc104",
   "metadata": {},
   "outputs": [],
   "source": [
    "# create a new column to represent dog stages by merging all relevant columns\n",
    "Twitter_archive_clean['dog_stage'] = Twitter_archive_clean[Twitter_archive_clean.columns[7:11]].apply(\n",
    "    lambda x: ','.join(x.dropna().astype(str)), axis=1)"
   ]
  },
  {
   "cell_type": "code",
   "execution_count": 47,
   "id": "2289ab03",
   "metadata": {},
   "outputs": [],
   "source": [
    "Twitter_archive_clean['dog_stage']= Twitter_archive_clean['dog_stage'].replace('',np.nan)#drop columns after merging\n",
    "Twitter_archive_clean.drop([\"doggo\",\"floofer\",\"pupper\",\"puppo\"], axis=1, inplace=True)"
   ]
  },
  {
   "cell_type": "code",
   "execution_count": 48,
   "id": "932b2115",
   "metadata": {},
   "outputs": [
    {
     "data": {
      "text/plain": [
       "pupper           221\n",
       "doggo             72\n",
       "puppo             23\n",
       "floofer            9\n",
       "doggo,pupper       9\n",
       "doggo,puppo        1\n",
       "doggo,floofer      1\n",
       "Name: dog_stage, dtype: int64"
      ]
     },
     "execution_count": 48,
     "metadata": {},
     "output_type": "execute_result"
    }
   ],
   "source": [
    "Twitter_archive_clean['dog_stage'].value_counts()"
   ]
  },
  {
   "cell_type": "code",
   "execution_count": 49,
   "id": "5be135d9",
   "metadata": {},
   "outputs": [],
   "source": [
    "# Fixing the dogs with two classifications.\n",
    "Twitter_archive_clean['dog_stage']=Twitter_archive_clean['dog_stage'].str.replace('doggo,pupper', 'multiclass')\n",
    "Twitter_archive_clean['dog_stage']=Twitter_archive_clean['dog_stage'].str.replace('doggo,puppo', 'multiclass')\n",
    "Twitter_archive_clean['dog_stage']=Twitter_archive_clean['dog_stage'].str.replace('doggo,floofer', 'multiclass')"
   ]
  },
  {
   "cell_type": "code",
   "execution_count": 50,
   "id": "afb4af99",
   "metadata": {},
   "outputs": [
    {
     "data": {
      "text/plain": [
       "pupper        221\n",
       "doggo          72\n",
       "puppo          23\n",
       "multiclass     11\n",
       "floofer         9\n",
       "Name: dog_stage, dtype: int64"
      ]
     },
     "execution_count": 50,
     "metadata": {},
     "output_type": "execute_result"
    }
   ],
   "source": [
    "Twitter_archive_clean['dog_stage'].value_counts()"
   ]
  },
  {
   "cell_type": "markdown",
   "id": "3502f4da",
   "metadata": {},
   "source": [
    "**Test**"
   ]
  },
  {
   "cell_type": "code",
   "execution_count": 51,
   "id": "7fe39695",
   "metadata": {},
   "outputs": [
    {
     "name": "stdout",
     "output_type": "stream",
     "text": [
      "<class 'pandas.core.frame.DataFrame'>\n",
      "Int64Index: 2097 entries, 0 to 2355\n",
      "Data columns (total 9 columns):\n",
      " #   Column              Non-Null Count  Dtype         \n",
      "---  ------              --------------  -----         \n",
      " 0   tweet_id            2097 non-null   object        \n",
      " 1   timestamp           2097 non-null   datetime64[ns]\n",
      " 2   text                2097 non-null   object        \n",
      " 3   expanded_urls       2094 non-null   object        \n",
      " 4   rating_numerator    2097 non-null   int64         \n",
      " 5   rating_denominator  2097 non-null   int64         \n",
      " 6   name                2097 non-null   object        \n",
      " 7   main_source         2097 non-null   object        \n",
      " 8   dog_stage           336 non-null    object        \n",
      "dtypes: datetime64[ns](1), int64(2), object(6)\n",
      "memory usage: 163.8+ KB\n"
     ]
    }
   ],
   "source": [
    "Twitter_archive_clean.info()"
   ]
  },
  {
   "cell_type": "markdown",
   "id": "5aa99a92",
   "metadata": {},
   "source": [
    "### Issue #6:\n",
    "\n",
    "**Define:** \n",
    "* Twitter_archive_data: Dog name are not consistence ,some rows has dog name as ( 'a,an,the,my,very,such,his....')"
   ]
  },
  {
   "cell_type": "markdown",
   "id": "8017f1e4",
   "metadata": {},
   "source": [
    "**Code**"
   ]
  },
  {
   "cell_type": "code",
   "execution_count": 52,
   "id": "cf8b5512",
   "metadata": {},
   "outputs": [],
   "source": [
    "name_set =set()\n",
    "for x in Twitter_archive_clean['name']:\n",
    "    if x[0].islower():\n",
    "        name_set.add(x)\n",
    "wrong_name = list((name_set))+['None']\n",
    "Twitter_archive_clean['name'].replace(wrong_name,'No name',inplace=True)\n",
    "        "
   ]
  },
  {
   "cell_type": "code",
   "execution_count": 53,
   "id": "1df25691",
   "metadata": {},
   "outputs": [
    {
     "data": {
      "text/plain": [
       "No name       707\n",
       "Lucy           11\n",
       "Charlie        11\n",
       "Oliver         10\n",
       "Cooper         10\n",
       "             ... \n",
       "Shelby          1\n",
       "Sephie          1\n",
       "Bonaparte       1\n",
       "Wishes          1\n",
       "Christoper      1\n",
       "Name: name, Length: 930, dtype: int64"
      ]
     },
     "execution_count": 53,
     "metadata": {},
     "output_type": "execute_result"
    }
   ],
   "source": [
    "Twitter_archive_clean['name'].value_counts()"
   ]
  },
  {
   "cell_type": "markdown",
   "id": "4e95a0b9",
   "metadata": {},
   "source": [
    "**Test**"
   ]
  },
  {
   "cell_type": "code",
   "execution_count": 54,
   "id": "a0ce90b7",
   "metadata": {},
   "outputs": [
    {
     "data": {
      "text/html": [
       "<div>\n",
       "<style scoped>\n",
       "    .dataframe tbody tr th:only-of-type {\n",
       "        vertical-align: middle;\n",
       "    }\n",
       "\n",
       "    .dataframe tbody tr th {\n",
       "        vertical-align: top;\n",
       "    }\n",
       "\n",
       "    .dataframe thead th {\n",
       "        text-align: right;\n",
       "    }\n",
       "</style>\n",
       "<table border=\"1\" class=\"dataframe\">\n",
       "  <thead>\n",
       "    <tr style=\"text-align: right;\">\n",
       "      <th></th>\n",
       "      <th>tweet_id</th>\n",
       "      <th>timestamp</th>\n",
       "      <th>text</th>\n",
       "      <th>expanded_urls</th>\n",
       "      <th>rating_numerator</th>\n",
       "      <th>rating_denominator</th>\n",
       "      <th>name</th>\n",
       "      <th>main_source</th>\n",
       "      <th>dog_stage</th>\n",
       "    </tr>\n",
       "  </thead>\n",
       "  <tbody>\n",
       "    <tr>\n",
       "      <th>1536</th>\n",
       "      <td>689905486972461056</td>\n",
       "      <td>2016-01-20 20:21:00</td>\n",
       "      <td>Say hello to Gizmo. He's quite the pupper. Con...</td>\n",
       "      <td>https://twitter.com/dog_rates/status/689905486...</td>\n",
       "      <td>11</td>\n",
       "      <td>10</td>\n",
       "      <td>Gizmo</td>\n",
       "      <td>iphone</td>\n",
       "      <td>pupper</td>\n",
       "    </tr>\n",
       "    <tr>\n",
       "      <th>1753</th>\n",
       "      <td>678800283649069056</td>\n",
       "      <td>2015-12-21 04:52:53</td>\n",
       "      <td>Here's a pupper with some mean tan lines. Snaz...</td>\n",
       "      <td>https://twitter.com/dog_rates/status/678800283...</td>\n",
       "      <td>12</td>\n",
       "      <td>10</td>\n",
       "      <td>No name</td>\n",
       "      <td>iphone</td>\n",
       "      <td>pupper</td>\n",
       "    </tr>\n",
       "    <tr>\n",
       "      <th>2187</th>\n",
       "      <td>668979806671884288</td>\n",
       "      <td>2015-11-24 02:29:49</td>\n",
       "      <td>This is Chaz. He's an X Games half pipe supers...</td>\n",
       "      <td>https://twitter.com/dog_rates/status/668979806...</td>\n",
       "      <td>12</td>\n",
       "      <td>10</td>\n",
       "      <td>Chaz</td>\n",
       "      <td>iphone</td>\n",
       "      <td>NaN</td>\n",
       "    </tr>\n",
       "    <tr>\n",
       "      <th>1332</th>\n",
       "      <td>705475953783398401</td>\n",
       "      <td>2016-03-03 19:32:29</td>\n",
       "      <td>Say hello to Zara. She found a sandal and coul...</td>\n",
       "      <td>https://twitter.com/dog_rates/status/705475953...</td>\n",
       "      <td>12</td>\n",
       "      <td>10</td>\n",
       "      <td>Zara</td>\n",
       "      <td>iphone</td>\n",
       "      <td>NaN</td>\n",
       "    </tr>\n",
       "    <tr>\n",
       "      <th>2206</th>\n",
       "      <td>668631377374486528</td>\n",
       "      <td>2015-11-23 03:25:17</td>\n",
       "      <td>Meet Zeek. He is a grey Cumulonimbus. Zeek is ...</td>\n",
       "      <td>https://twitter.com/dog_rates/status/668631377...</td>\n",
       "      <td>5</td>\n",
       "      <td>10</td>\n",
       "      <td>Zeek</td>\n",
       "      <td>iphone</td>\n",
       "      <td>NaN</td>\n",
       "    </tr>\n",
       "    <tr>\n",
       "      <th>280</th>\n",
       "      <td>839549326359670784</td>\n",
       "      <td>2017-03-08 18:52:12</td>\n",
       "      <td>Meet Winston. He knows he's a little too big f...</td>\n",
       "      <td>https://twitter.com/dog_rates/status/839549326...</td>\n",
       "      <td>12</td>\n",
       "      <td>10</td>\n",
       "      <td>Winston</td>\n",
       "      <td>iphone</td>\n",
       "      <td>NaN</td>\n",
       "    </tr>\n",
       "    <tr>\n",
       "      <th>1586</th>\n",
       "      <td>686760001961103360</td>\n",
       "      <td>2016-01-12 04:01:58</td>\n",
       "      <td>This pupper forgot how to walk. 12/10 happens ...</td>\n",
       "      <td>https://vine.co/v/iMvubwT260D</td>\n",
       "      <td>12</td>\n",
       "      <td>10</td>\n",
       "      <td>No name</td>\n",
       "      <td>Vine</td>\n",
       "      <td>pupper</td>\n",
       "    </tr>\n",
       "    <tr>\n",
       "      <th>371</th>\n",
       "      <td>828408677031882754</td>\n",
       "      <td>2017-02-06 01:03:14</td>\n",
       "      <td>This is Bear. He went outside to play in the s...</td>\n",
       "      <td>https://twitter.com/dog_rates/status/828408677...</td>\n",
       "      <td>12</td>\n",
       "      <td>10</td>\n",
       "      <td>Bear</td>\n",
       "      <td>iphone</td>\n",
       "      <td>NaN</td>\n",
       "    </tr>\n",
       "    <tr>\n",
       "      <th>63</th>\n",
       "      <td>879862464715927552</td>\n",
       "      <td>2017-06-28 00:42:13</td>\n",
       "      <td>This is Romeo. He would like to do an entrance...</td>\n",
       "      <td>https://twitter.com/dog_rates/status/879862464...</td>\n",
       "      <td>13</td>\n",
       "      <td>10</td>\n",
       "      <td>Romeo</td>\n",
       "      <td>iphone</td>\n",
       "      <td>NaN</td>\n",
       "    </tr>\n",
       "    <tr>\n",
       "      <th>1849</th>\n",
       "      <td>675781562965868544</td>\n",
       "      <td>2015-12-12 20:57:34</td>\n",
       "      <td>Say hello to Buddah. He was Waldo for Hallowee...</td>\n",
       "      <td>https://twitter.com/dog_rates/status/675781562...</td>\n",
       "      <td>11</td>\n",
       "      <td>10</td>\n",
       "      <td>Buddah</td>\n",
       "      <td>iphone</td>\n",
       "      <td>NaN</td>\n",
       "    </tr>\n",
       "  </tbody>\n",
       "</table>\n",
       "</div>"
      ],
      "text/plain": [
       "                tweet_id           timestamp  \\\n",
       "1536  689905486972461056 2016-01-20 20:21:00   \n",
       "1753  678800283649069056 2015-12-21 04:52:53   \n",
       "2187  668979806671884288 2015-11-24 02:29:49   \n",
       "1332  705475953783398401 2016-03-03 19:32:29   \n",
       "2206  668631377374486528 2015-11-23 03:25:17   \n",
       "280   839549326359670784 2017-03-08 18:52:12   \n",
       "1586  686760001961103360 2016-01-12 04:01:58   \n",
       "371   828408677031882754 2017-02-06 01:03:14   \n",
       "63    879862464715927552 2017-06-28 00:42:13   \n",
       "1849  675781562965868544 2015-12-12 20:57:34   \n",
       "\n",
       "                                                   text  \\\n",
       "1536  Say hello to Gizmo. He's quite the pupper. Con...   \n",
       "1753  Here's a pupper with some mean tan lines. Snaz...   \n",
       "2187  This is Chaz. He's an X Games half pipe supers...   \n",
       "1332  Say hello to Zara. She found a sandal and coul...   \n",
       "2206  Meet Zeek. He is a grey Cumulonimbus. Zeek is ...   \n",
       "280   Meet Winston. He knows he's a little too big f...   \n",
       "1586  This pupper forgot how to walk. 12/10 happens ...   \n",
       "371   This is Bear. He went outside to play in the s...   \n",
       "63    This is Romeo. He would like to do an entrance...   \n",
       "1849  Say hello to Buddah. He was Waldo for Hallowee...   \n",
       "\n",
       "                                          expanded_urls  rating_numerator  \\\n",
       "1536  https://twitter.com/dog_rates/status/689905486...                11   \n",
       "1753  https://twitter.com/dog_rates/status/678800283...                12   \n",
       "2187  https://twitter.com/dog_rates/status/668979806...                12   \n",
       "1332  https://twitter.com/dog_rates/status/705475953...                12   \n",
       "2206  https://twitter.com/dog_rates/status/668631377...                 5   \n",
       "280   https://twitter.com/dog_rates/status/839549326...                12   \n",
       "1586                      https://vine.co/v/iMvubwT260D                12   \n",
       "371   https://twitter.com/dog_rates/status/828408677...                12   \n",
       "63    https://twitter.com/dog_rates/status/879862464...                13   \n",
       "1849  https://twitter.com/dog_rates/status/675781562...                11   \n",
       "\n",
       "      rating_denominator     name main_source dog_stage  \n",
       "1536                  10    Gizmo      iphone    pupper  \n",
       "1753                  10  No name      iphone    pupper  \n",
       "2187                  10     Chaz      iphone       NaN  \n",
       "1332                  10     Zara      iphone       NaN  \n",
       "2206                  10     Zeek      iphone       NaN  \n",
       "280                   10  Winston      iphone       NaN  \n",
       "1586                  10  No name        Vine    pupper  \n",
       "371                   10     Bear      iphone       NaN  \n",
       "63                    10    Romeo      iphone       NaN  \n",
       "1849                  10   Buddah      iphone       NaN  "
      ]
     },
     "execution_count": 54,
     "metadata": {},
     "output_type": "execute_result"
    }
   ],
   "source": [
    "Twitter_archive_clean.sample(10)"
   ]
  },
  {
   "cell_type": "code",
   "execution_count": 55,
   "id": "b6ea440c",
   "metadata": {},
   "outputs": [
    {
     "name": "stdout",
     "output_type": "stream",
     "text": [
      "<class 'pandas.core.frame.DataFrame'>\n",
      "Int64Index: 2097 entries, 0 to 2355\n",
      "Data columns (total 9 columns):\n",
      " #   Column              Non-Null Count  Dtype         \n",
      "---  ------              --------------  -----         \n",
      " 0   tweet_id            2097 non-null   object        \n",
      " 1   timestamp           2097 non-null   datetime64[ns]\n",
      " 2   text                2097 non-null   object        \n",
      " 3   expanded_urls       2094 non-null   object        \n",
      " 4   rating_numerator    2097 non-null   int64         \n",
      " 5   rating_denominator  2097 non-null   int64         \n",
      " 6   name                2097 non-null   object        \n",
      " 7   main_source         2097 non-null   object        \n",
      " 8   dog_stage           336 non-null    object        \n",
      "dtypes: datetime64[ns](1), int64(2), object(6)\n",
      "memory usage: 163.8+ KB\n"
     ]
    }
   ],
   "source": [
    "Twitter_archive_clean.info()"
   ]
  },
  {
   "cell_type": "markdown",
   "id": "55f1db78",
   "metadata": {},
   "source": [
    "### Issue #7:\n",
    "\n",
    "**Define:** \n",
    "* filtering image data not related to dog rating\n",
    "* removal of columns not needed for my analysis"
   ]
  },
  {
   "cell_type": "markdown",
   "id": "06b85a5b",
   "metadata": {},
   "source": [
    "**Code**"
   ]
  },
  {
   "cell_type": "code",
   "execution_count": 56,
   "id": "54b155b1",
   "metadata": {},
   "outputs": [
    {
     "data": {
      "text/html": [
       "<div>\n",
       "<style scoped>\n",
       "    .dataframe tbody tr th:only-of-type {\n",
       "        vertical-align: middle;\n",
       "    }\n",
       "\n",
       "    .dataframe tbody tr th {\n",
       "        vertical-align: top;\n",
       "    }\n",
       "\n",
       "    .dataframe thead th {\n",
       "        text-align: right;\n",
       "    }\n",
       "</style>\n",
       "<table border=\"1\" class=\"dataframe\">\n",
       "  <thead>\n",
       "    <tr style=\"text-align: right;\">\n",
       "      <th></th>\n",
       "      <th>tweet_id</th>\n",
       "      <th>jpg_url</th>\n",
       "      <th>img_num</th>\n",
       "      <th>p1</th>\n",
       "      <th>p1_conf</th>\n",
       "      <th>p1_dog</th>\n",
       "      <th>p2</th>\n",
       "      <th>p2_conf</th>\n",
       "      <th>p2_dog</th>\n",
       "      <th>p3</th>\n",
       "      <th>p3_conf</th>\n",
       "      <th>p3_dog</th>\n",
       "    </tr>\n",
       "  </thead>\n",
       "  <tbody>\n",
       "    <tr>\n",
       "      <th>257</th>\n",
       "      <td>670778058496974848</td>\n",
       "      <td>https://pbs.twimg.com/media/CU8VFhuVAAAQW8B.jpg</td>\n",
       "      <td>1</td>\n",
       "      <td>pug</td>\n",
       "      <td>0.776612</td>\n",
       "      <td>True</td>\n",
       "      <td>brabancon_griffon</td>\n",
       "      <td>0.112032</td>\n",
       "      <td>True</td>\n",
       "      <td>boxer</td>\n",
       "      <td>0.039051</td>\n",
       "      <td>True</td>\n",
       "    </tr>\n",
       "    <tr>\n",
       "      <th>1106</th>\n",
       "      <td>723179728551723008</td>\n",
       "      <td>https://pbs.twimg.com/media/CglAHjAUgAAfxcq.jpg</td>\n",
       "      <td>1</td>\n",
       "      <td>tennis_ball</td>\n",
       "      <td>0.176495</td>\n",
       "      <td>False</td>\n",
       "      <td>badger</td>\n",
       "      <td>0.059905</td>\n",
       "      <td>False</td>\n",
       "      <td>norwegian_elkhound</td>\n",
       "      <td>0.056850</td>\n",
       "      <td>True</td>\n",
       "    </tr>\n",
       "    <tr>\n",
       "      <th>1728</th>\n",
       "      <td>820690176645140481</td>\n",
       "      <td>https://pbs.twimg.com/media/C2OtWr0VQAEnS9r.jpg</td>\n",
       "      <td>2</td>\n",
       "      <td>west_highland_white_terrier</td>\n",
       "      <td>0.872064</td>\n",
       "      <td>True</td>\n",
       "      <td>kuvasz</td>\n",
       "      <td>0.059526</td>\n",
       "      <td>True</td>\n",
       "      <td>samoyed</td>\n",
       "      <td>0.037400</td>\n",
       "      <td>True</td>\n",
       "    </tr>\n",
       "    <tr>\n",
       "      <th>416</th>\n",
       "      <td>674019345211760640</td>\n",
       "      <td>https://pbs.twimg.com/media/CVqZBO8WUAAd931.jpg</td>\n",
       "      <td>1</td>\n",
       "      <td>collie</td>\n",
       "      <td>0.992732</td>\n",
       "      <td>True</td>\n",
       "      <td>borzoi</td>\n",
       "      <td>0.005043</td>\n",
       "      <td>True</td>\n",
       "      <td>shetland_sheepdog</td>\n",
       "      <td>0.001725</td>\n",
       "      <td>True</td>\n",
       "    </tr>\n",
       "    <tr>\n",
       "      <th>1152</th>\n",
       "      <td>732585889486888962</td>\n",
       "      <td>https://pbs.twimg.com/media/Ciqq-VFUUAANlWm.jpg</td>\n",
       "      <td>2</td>\n",
       "      <td>staffordshire_bullterrier</td>\n",
       "      <td>0.843359</td>\n",
       "      <td>True</td>\n",
       "      <td>american_staffordshire_terrier</td>\n",
       "      <td>0.028290</td>\n",
       "      <td>True</td>\n",
       "      <td>miniature_pinscher</td>\n",
       "      <td>0.016793</td>\n",
       "      <td>True</td>\n",
       "    </tr>\n",
       "    <tr>\n",
       "      <th>677</th>\n",
       "      <td>683481228088049664</td>\n",
       "      <td>https://pbs.twimg.com/media/CXw2jSpWMAAad6V.jpg</td>\n",
       "      <td>1</td>\n",
       "      <td>keeshond</td>\n",
       "      <td>0.508951</td>\n",
       "      <td>True</td>\n",
       "      <td>chow</td>\n",
       "      <td>0.442016</td>\n",
       "      <td>True</td>\n",
       "      <td>german_shepherd</td>\n",
       "      <td>0.013206</td>\n",
       "      <td>True</td>\n",
       "    </tr>\n",
       "    <tr>\n",
       "      <th>561</th>\n",
       "      <td>677895101218201600</td>\n",
       "      <td>https://pbs.twimg.com/media/CWhd_7WWsAAaqWG.jpg</td>\n",
       "      <td>1</td>\n",
       "      <td>dalmatian</td>\n",
       "      <td>0.550702</td>\n",
       "      <td>True</td>\n",
       "      <td>kuvasz</td>\n",
       "      <td>0.060226</td>\n",
       "      <td>True</td>\n",
       "      <td>great_pyrenees</td>\n",
       "      <td>0.058631</td>\n",
       "      <td>True</td>\n",
       "    </tr>\n",
       "    <tr>\n",
       "      <th>859</th>\n",
       "      <td>696894894812565505</td>\n",
       "      <td>https://pbs.twimg.com/media/CaveNQcVIAECyBr.jpg</td>\n",
       "      <td>1</td>\n",
       "      <td>appenzeller</td>\n",
       "      <td>0.665628</td>\n",
       "      <td>True</td>\n",
       "      <td>beagle</td>\n",
       "      <td>0.104795</td>\n",
       "      <td>True</td>\n",
       "      <td>greater_swiss_mountain_dog</td>\n",
       "      <td>0.067868</td>\n",
       "      <td>True</td>\n",
       "    </tr>\n",
       "    <tr>\n",
       "      <th>413</th>\n",
       "      <td>673956914389192708</td>\n",
       "      <td>https://pbs.twimg.com/media/CVpgPGwWoAEV7gG.jpg</td>\n",
       "      <td>1</td>\n",
       "      <td>pug</td>\n",
       "      <td>0.586161</td>\n",
       "      <td>True</td>\n",
       "      <td>brabancon_griffon</td>\n",
       "      <td>0.082744</td>\n",
       "      <td>True</td>\n",
       "      <td>chihuahua</td>\n",
       "      <td>0.045878</td>\n",
       "      <td>True</td>\n",
       "    </tr>\n",
       "    <tr>\n",
       "      <th>196</th>\n",
       "      <td>669597912108789760</td>\n",
       "      <td>https://pbs.twimg.com/media/CUrjvxiVEAA94dH.jpg</td>\n",
       "      <td>1</td>\n",
       "      <td>eskimo_dog</td>\n",
       "      <td>0.595665</td>\n",
       "      <td>True</td>\n",
       "      <td>siberian_husky</td>\n",
       "      <td>0.214474</td>\n",
       "      <td>True</td>\n",
       "      <td>white_wolf</td>\n",
       "      <td>0.147235</td>\n",
       "      <td>False</td>\n",
       "    </tr>\n",
       "  </tbody>\n",
       "</table>\n",
       "</div>"
      ],
      "text/plain": [
       "                tweet_id                                          jpg_url  \\\n",
       "257   670778058496974848  https://pbs.twimg.com/media/CU8VFhuVAAAQW8B.jpg   \n",
       "1106  723179728551723008  https://pbs.twimg.com/media/CglAHjAUgAAfxcq.jpg   \n",
       "1728  820690176645140481  https://pbs.twimg.com/media/C2OtWr0VQAEnS9r.jpg   \n",
       "416   674019345211760640  https://pbs.twimg.com/media/CVqZBO8WUAAd931.jpg   \n",
       "1152  732585889486888962  https://pbs.twimg.com/media/Ciqq-VFUUAANlWm.jpg   \n",
       "677   683481228088049664  https://pbs.twimg.com/media/CXw2jSpWMAAad6V.jpg   \n",
       "561   677895101218201600  https://pbs.twimg.com/media/CWhd_7WWsAAaqWG.jpg   \n",
       "859   696894894812565505  https://pbs.twimg.com/media/CaveNQcVIAECyBr.jpg   \n",
       "413   673956914389192708  https://pbs.twimg.com/media/CVpgPGwWoAEV7gG.jpg   \n",
       "196   669597912108789760  https://pbs.twimg.com/media/CUrjvxiVEAA94dH.jpg   \n",
       "\n",
       "      img_num                           p1   p1_conf  p1_dog  \\\n",
       "257         1                          pug  0.776612    True   \n",
       "1106        1                  tennis_ball  0.176495   False   \n",
       "1728        2  west_highland_white_terrier  0.872064    True   \n",
       "416         1                       collie  0.992732    True   \n",
       "1152        2    staffordshire_bullterrier  0.843359    True   \n",
       "677         1                     keeshond  0.508951    True   \n",
       "561         1                    dalmatian  0.550702    True   \n",
       "859         1                  appenzeller  0.665628    True   \n",
       "413         1                          pug  0.586161    True   \n",
       "196         1                   eskimo_dog  0.595665    True   \n",
       "\n",
       "                                  p2   p2_conf  p2_dog  \\\n",
       "257                brabancon_griffon  0.112032    True   \n",
       "1106                          badger  0.059905   False   \n",
       "1728                          kuvasz  0.059526    True   \n",
       "416                           borzoi  0.005043    True   \n",
       "1152  american_staffordshire_terrier  0.028290    True   \n",
       "677                             chow  0.442016    True   \n",
       "561                           kuvasz  0.060226    True   \n",
       "859                           beagle  0.104795    True   \n",
       "413                brabancon_griffon  0.082744    True   \n",
       "196                   siberian_husky  0.214474    True   \n",
       "\n",
       "                              p3   p3_conf  p3_dog  \n",
       "257                        boxer  0.039051    True  \n",
       "1106          norwegian_elkhound  0.056850    True  \n",
       "1728                     samoyed  0.037400    True  \n",
       "416            shetland_sheepdog  0.001725    True  \n",
       "1152          miniature_pinscher  0.016793    True  \n",
       "677              german_shepherd  0.013206    True  \n",
       "561               great_pyrenees  0.058631    True  \n",
       "859   greater_swiss_mountain_dog  0.067868    True  \n",
       "413                    chihuahua  0.045878    True  \n",
       "196                   white_wolf  0.147235   False  "
      ]
     },
     "execution_count": 56,
     "metadata": {},
     "output_type": "execute_result"
    }
   ],
   "source": [
    "image_clean.sample(10)"
   ]
  },
  {
   "cell_type": "code",
   "execution_count": 57,
   "id": "94775980",
   "metadata": {},
   "outputs": [
    {
     "data": {
      "text/plain": [
       "True     1532\n",
       "False     543\n",
       "Name: p1_dog, dtype: int64"
      ]
     },
     "execution_count": 57,
     "metadata": {},
     "output_type": "execute_result"
    }
   ],
   "source": [
    "image_clean['p1_dog'].value_counts()"
   ]
  },
  {
   "cell_type": "code",
   "execution_count": 58,
   "id": "dc41e1cc",
   "metadata": {},
   "outputs": [],
   "source": [
    "image_clean = image_clean[image_clean['p1_dog']== True]"
   ]
  },
  {
   "cell_type": "code",
   "execution_count": 59,
   "id": "37f3c05e",
   "metadata": {},
   "outputs": [],
   "source": [
    "# The \"p1\" and \"p1_conf\" columns will be renamed with more explanatory titles.\n",
    "\n",
    "# Code\n",
    "new_col_names = {'p1':'dog_breed_prediction', 'p1_conf':'prediction_confidence'}\n",
    "\n",
    "image_clean.rename(columns= new_col_names, inplace=True)"
   ]
  },
  {
   "cell_type": "code",
   "execution_count": 60,
   "id": "f0ae0285",
   "metadata": {},
   "outputs": [],
   "source": [
    "\n",
    "# The \"p2\" and \"p3\" related columns will be removed as (\"p1\") has the higest prediction  \n",
    "\n",
    "# After removal of \"False\" entries, the \"p1_dog\" column will be removed as it will no longer add any valuable information.\n",
    "\n",
    "# Code\n",
    "preds_drop_cols = ['jpg_url', 'p1_dog', 'p2', 'p2_conf', 'p2_dog', 'p3', 'p2_conf', 'p3_dog', 'p3_conf']\n",
    "\n",
    "image_clean.drop(preds_drop_cols, inplace=True, axis=1)"
   ]
  },
  {
   "cell_type": "markdown",
   "id": "c06d19ac",
   "metadata": {},
   "source": [
    "**Test**"
   ]
  },
  {
   "cell_type": "code",
   "execution_count": 61,
   "id": "e4a18830",
   "metadata": {},
   "outputs": [
    {
     "data": {
      "text/html": [
       "<div>\n",
       "<style scoped>\n",
       "    .dataframe tbody tr th:only-of-type {\n",
       "        vertical-align: middle;\n",
       "    }\n",
       "\n",
       "    .dataframe tbody tr th {\n",
       "        vertical-align: top;\n",
       "    }\n",
       "\n",
       "    .dataframe thead th {\n",
       "        text-align: right;\n",
       "    }\n",
       "</style>\n",
       "<table border=\"1\" class=\"dataframe\">\n",
       "  <thead>\n",
       "    <tr style=\"text-align: right;\">\n",
       "      <th></th>\n",
       "      <th>tweet_id</th>\n",
       "      <th>img_num</th>\n",
       "      <th>dog_breed_prediction</th>\n",
       "      <th>prediction_confidence</th>\n",
       "    </tr>\n",
       "  </thead>\n",
       "  <tbody>\n",
       "    <tr>\n",
       "      <th>724</th>\n",
       "      <td>686034024800862208</td>\n",
       "      <td>1</td>\n",
       "      <td>great_dane</td>\n",
       "      <td>0.236920</td>\n",
       "    </tr>\n",
       "    <tr>\n",
       "      <th>1822</th>\n",
       "      <td>834786237630337024</td>\n",
       "      <td>1</td>\n",
       "      <td>border_terrier</td>\n",
       "      <td>0.156276</td>\n",
       "    </tr>\n",
       "    <tr>\n",
       "      <th>1255</th>\n",
       "      <td>748346686624440324</td>\n",
       "      <td>1</td>\n",
       "      <td>borzoi</td>\n",
       "      <td>0.596455</td>\n",
       "    </tr>\n",
       "    <tr>\n",
       "      <th>689</th>\n",
       "      <td>684188786104872960</td>\n",
       "      <td>1</td>\n",
       "      <td>kelpie</td>\n",
       "      <td>0.537782</td>\n",
       "    </tr>\n",
       "    <tr>\n",
       "      <th>692</th>\n",
       "      <td>684222868335505415</td>\n",
       "      <td>1</td>\n",
       "      <td>soft_coated_wheaten_terrier</td>\n",
       "      <td>0.791182</td>\n",
       "    </tr>\n",
       "    <tr>\n",
       "      <th>815</th>\n",
       "      <td>692752401762250755</td>\n",
       "      <td>1</td>\n",
       "      <td>samoyed</td>\n",
       "      <td>0.471276</td>\n",
       "    </tr>\n",
       "    <tr>\n",
       "      <th>1316</th>\n",
       "      <td>755110668769038337</td>\n",
       "      <td>1</td>\n",
       "      <td>labrador_retriever</td>\n",
       "      <td>0.708974</td>\n",
       "    </tr>\n",
       "    <tr>\n",
       "      <th>898</th>\n",
       "      <td>699779630832685056</td>\n",
       "      <td>1</td>\n",
       "      <td>malinois</td>\n",
       "      <td>0.706038</td>\n",
       "    </tr>\n",
       "    <tr>\n",
       "      <th>1007</th>\n",
       "      <td>709198395643068416</td>\n",
       "      <td>1</td>\n",
       "      <td>borzoi</td>\n",
       "      <td>0.490783</td>\n",
       "    </tr>\n",
       "    <tr>\n",
       "      <th>1540</th>\n",
       "      <td>790987426131050500</td>\n",
       "      <td>1</td>\n",
       "      <td>cocker_spaniel</td>\n",
       "      <td>0.349195</td>\n",
       "    </tr>\n",
       "  </tbody>\n",
       "</table>\n",
       "</div>"
      ],
      "text/plain": [
       "                tweet_id  img_num         dog_breed_prediction  \\\n",
       "724   686034024800862208        1                   great_dane   \n",
       "1822  834786237630337024        1               border_terrier   \n",
       "1255  748346686624440324        1                       borzoi   \n",
       "689   684188786104872960        1                       kelpie   \n",
       "692   684222868335505415        1  soft_coated_wheaten_terrier   \n",
       "815   692752401762250755        1                      samoyed   \n",
       "1316  755110668769038337        1           labrador_retriever   \n",
       "898   699779630832685056        1                     malinois   \n",
       "1007  709198395643068416        1                       borzoi   \n",
       "1540  790987426131050500        1               cocker_spaniel   \n",
       "\n",
       "      prediction_confidence  \n",
       "724                0.236920  \n",
       "1822               0.156276  \n",
       "1255               0.596455  \n",
       "689                0.537782  \n",
       "692                0.791182  \n",
       "815                0.471276  \n",
       "1316               0.708974  \n",
       "898                0.706038  \n",
       "1007               0.490783  \n",
       "1540               0.349195  "
      ]
     },
     "execution_count": 61,
     "metadata": {},
     "output_type": "execute_result"
    }
   ],
   "source": [
    "image_clean.sample(10)"
   ]
  },
  {
   "cell_type": "code",
   "execution_count": 62,
   "id": "7f3be793",
   "metadata": {},
   "outputs": [
    {
     "name": "stdout",
     "output_type": "stream",
     "text": [
      "<class 'pandas.core.frame.DataFrame'>\n",
      "Int64Index: 1532 entries, 0 to 2073\n",
      "Data columns (total 4 columns):\n",
      " #   Column                 Non-Null Count  Dtype  \n",
      "---  ------                 --------------  -----  \n",
      " 0   tweet_id               1532 non-null   object \n",
      " 1   img_num                1532 non-null   int64  \n",
      " 2   dog_breed_prediction   1532 non-null   object \n",
      " 3   prediction_confidence  1532 non-null   float64\n",
      "dtypes: float64(1), int64(1), object(2)\n",
      "memory usage: 59.8+ KB\n"
     ]
    }
   ],
   "source": [
    "image_clean.info()"
   ]
  },
  {
   "cell_type": "markdown",
   "id": "57b7a3ba",
   "metadata": {},
   "source": [
    "### Issue #8:"
   ]
  },
  {
   "cell_type": "markdown",
   "id": "c0aa33e6",
   "metadata": {},
   "source": [
    "**Define:Twitter_archive_clean data**   \n",
    "* column name renamed with more explanatory titles.\n",
    "* Drop  more column for that i will not need for my analysis\n"
   ]
  },
  {
   "cell_type": "markdown",
   "id": "af81b0fd",
   "metadata": {},
   "source": [
    "**Code**"
   ]
  },
  {
   "cell_type": "code",
   "execution_count": 63,
   "id": "8bc26797",
   "metadata": {},
   "outputs": [],
   "source": [
    "drop_cols = ['text', 'expanded_urls']\n",
    "\n",
    "Twitter_archive_clean.drop(drop_cols, inplace=True, axis=1)"
   ]
  },
  {
   "cell_type": "markdown",
   "id": "5fa4a5cb",
   "metadata": {},
   "source": [
    "**Test**"
   ]
  },
  {
   "cell_type": "code",
   "execution_count": 64,
   "id": "41a7517d",
   "metadata": {},
   "outputs": [
    {
     "name": "stdout",
     "output_type": "stream",
     "text": [
      "<class 'pandas.core.frame.DataFrame'>\n",
      "Int64Index: 2097 entries, 0 to 2355\n",
      "Data columns (total 7 columns):\n",
      " #   Column              Non-Null Count  Dtype         \n",
      "---  ------              --------------  -----         \n",
      " 0   tweet_id            2097 non-null   object        \n",
      " 1   timestamp           2097 non-null   datetime64[ns]\n",
      " 2   rating_numerator    2097 non-null   int64         \n",
      " 3   rating_denominator  2097 non-null   int64         \n",
      " 4   name                2097 non-null   object        \n",
      " 5   main_source         2097 non-null   object        \n",
      " 6   dog_stage           336 non-null    object        \n",
      "dtypes: datetime64[ns](1), int64(2), object(4)\n",
      "memory usage: 131.1+ KB\n"
     ]
    }
   ],
   "source": [
    "Twitter_archive_clean.info()"
   ]
  },
  {
   "cell_type": "markdown",
   "id": "2cc99fba",
   "metadata": {},
   "source": [
    "### Issue #9:"
   ]
  },
  {
   "cell_type": "markdown",
   "id": "9f0b13d6",
   "metadata": {},
   "source": [
    "**Define**\n",
    "\n",
    "* image & df_tweetdata:These  data are part of the same observation unit as the Twitter_archive_data ,(one table with information about  dog rating) : Merging the Three(3) Dataset\n"
   ]
  },
  {
   "cell_type": "markdown",
   "id": "13f33a7f",
   "metadata": {},
   "source": [
    "**Code**"
   ]
  },
  {
   "cell_type": "code",
   "execution_count": 65,
   "id": "64275f43",
   "metadata": {},
   "outputs": [],
   "source": [
    "Twitter_archive = pd.merge(Twitter_archive_clean, tweet_clean, on='tweet_id')"
   ]
  },
  {
   "cell_type": "code",
   "execution_count": 66,
   "id": "0f45dbcf",
   "metadata": {},
   "outputs": [],
   "source": [
    "df = pd.merge(Twitter_archive, image_clean, on='tweet_id')"
   ]
  },
  {
   "cell_type": "code",
   "execution_count": 67,
   "id": "08fde4ee",
   "metadata": {},
   "outputs": [
    {
     "data": {
      "text/html": [
       "<div>\n",
       "<style scoped>\n",
       "    .dataframe tbody tr th:only-of-type {\n",
       "        vertical-align: middle;\n",
       "    }\n",
       "\n",
       "    .dataframe tbody tr th {\n",
       "        vertical-align: top;\n",
       "    }\n",
       "\n",
       "    .dataframe thead th {\n",
       "        text-align: right;\n",
       "    }\n",
       "</style>\n",
       "<table border=\"1\" class=\"dataframe\">\n",
       "  <thead>\n",
       "    <tr style=\"text-align: right;\">\n",
       "      <th></th>\n",
       "      <th>tweet_id</th>\n",
       "      <th>timestamp</th>\n",
       "      <th>rating_numerator</th>\n",
       "      <th>rating_denominator</th>\n",
       "      <th>name</th>\n",
       "      <th>main_source</th>\n",
       "      <th>dog_stage</th>\n",
       "      <th>retweet_count</th>\n",
       "      <th>favorite_count</th>\n",
       "      <th>img_num</th>\n",
       "      <th>dog_breed_prediction</th>\n",
       "      <th>prediction_confidence</th>\n",
       "    </tr>\n",
       "  </thead>\n",
       "  <tbody>\n",
       "    <tr>\n",
       "      <th>553</th>\n",
       "      <td>751456908746354688</td>\n",
       "      <td>2016-07-08 16:44:23</td>\n",
       "      <td>12</td>\n",
       "      <td>10</td>\n",
       "      <td>No name</td>\n",
       "      <td>iphone</td>\n",
       "      <td>pupper</td>\n",
       "      <td>925</td>\n",
       "      <td>3016</td>\n",
       "      <td>1</td>\n",
       "      <td>golden_retriever</td>\n",
       "      <td>0.714409</td>\n",
       "    </tr>\n",
       "    <tr>\n",
       "      <th>1275</th>\n",
       "      <td>670840546554966016</td>\n",
       "      <td>2015-11-29 05:43:44</td>\n",
       "      <td>10</td>\n",
       "      <td>10</td>\n",
       "      <td>Colby</td>\n",
       "      <td>iphone</td>\n",
       "      <td>NaN</td>\n",
       "      <td>166</td>\n",
       "      <td>524</td>\n",
       "      <td>1</td>\n",
       "      <td>shih_tzu</td>\n",
       "      <td>0.963622</td>\n",
       "    </tr>\n",
       "    <tr>\n",
       "      <th>351</th>\n",
       "      <td>797545162159308800</td>\n",
       "      <td>2016-11-12 21:02:38</td>\n",
       "      <td>12</td>\n",
       "      <td>10</td>\n",
       "      <td>Cassie</td>\n",
       "      <td>iphone</td>\n",
       "      <td>NaN</td>\n",
       "      <td>4623</td>\n",
       "      <td>13894</td>\n",
       "      <td>1</td>\n",
       "      <td>pembroke</td>\n",
       "      <td>0.954089</td>\n",
       "    </tr>\n",
       "    <tr>\n",
       "      <th>217</th>\n",
       "      <td>828650029636317184</td>\n",
       "      <td>2017-02-06 17:02:17</td>\n",
       "      <td>14</td>\n",
       "      <td>10</td>\n",
       "      <td>No name</td>\n",
       "      <td>iphone</td>\n",
       "      <td>NaN</td>\n",
       "      <td>1244</td>\n",
       "      <td>8971</td>\n",
       "      <td>1</td>\n",
       "      <td>golden_retriever</td>\n",
       "      <td>0.649209</td>\n",
       "    </tr>\n",
       "    <tr>\n",
       "      <th>1009</th>\n",
       "      <td>683828599284170753</td>\n",
       "      <td>2016-01-04 01:53:37</td>\n",
       "      <td>12</td>\n",
       "      <td>10</td>\n",
       "      <td>No name</td>\n",
       "      <td>iphone</td>\n",
       "      <td>pupper</td>\n",
       "      <td>973</td>\n",
       "      <td>2589</td>\n",
       "      <td>1</td>\n",
       "      <td>malamute</td>\n",
       "      <td>0.577376</td>\n",
       "    </tr>\n",
       "    <tr>\n",
       "      <th>756</th>\n",
       "      <td>710269109699739648</td>\n",
       "      <td>2016-03-17 00:58:46</td>\n",
       "      <td>13</td>\n",
       "      <td>10</td>\n",
       "      <td>No name</td>\n",
       "      <td>iphone</td>\n",
       "      <td>NaN</td>\n",
       "      <td>1019</td>\n",
       "      <td>2205</td>\n",
       "      <td>1</td>\n",
       "      <td>pug</td>\n",
       "      <td>0.415495</td>\n",
       "    </tr>\n",
       "    <tr>\n",
       "      <th>1215</th>\n",
       "      <td>673240798075449344</td>\n",
       "      <td>2015-12-05 20:41:29</td>\n",
       "      <td>6</td>\n",
       "      <td>10</td>\n",
       "      <td>No name</td>\n",
       "      <td>iphone</td>\n",
       "      <td>NaN</td>\n",
       "      <td>618</td>\n",
       "      <td>1279</td>\n",
       "      <td>1</td>\n",
       "      <td>airedale</td>\n",
       "      <td>0.443004</td>\n",
       "    </tr>\n",
       "    <tr>\n",
       "      <th>1040</th>\n",
       "      <td>681261549936340994</td>\n",
       "      <td>2015-12-27 23:53:05</td>\n",
       "      <td>9</td>\n",
       "      <td>10</td>\n",
       "      <td>Panda</td>\n",
       "      <td>iphone</td>\n",
       "      <td>NaN</td>\n",
       "      <td>236</td>\n",
       "      <td>1336</td>\n",
       "      <td>1</td>\n",
       "      <td>tibetan_terrier</td>\n",
       "      <td>0.382101</td>\n",
       "    </tr>\n",
       "    <tr>\n",
       "      <th>532</th>\n",
       "      <td>756303284449767430</td>\n",
       "      <td>2016-07-22 01:42:09</td>\n",
       "      <td>11</td>\n",
       "      <td>10</td>\n",
       "      <td>No name</td>\n",
       "      <td>iphone</td>\n",
       "      <td>NaN</td>\n",
       "      <td>1006</td>\n",
       "      <td>3707</td>\n",
       "      <td>1</td>\n",
       "      <td>golden_retriever</td>\n",
       "      <td>0.981652</td>\n",
       "    </tr>\n",
       "    <tr>\n",
       "      <th>506</th>\n",
       "      <td>761334018830917632</td>\n",
       "      <td>2016-08-04 22:52:29</td>\n",
       "      <td>10</td>\n",
       "      <td>10</td>\n",
       "      <td>Bruce</td>\n",
       "      <td>iphone</td>\n",
       "      <td>NaN</td>\n",
       "      <td>1342</td>\n",
       "      <td>4839</td>\n",
       "      <td>1</td>\n",
       "      <td>norwegian_elkhound</td>\n",
       "      <td>0.822936</td>\n",
       "    </tr>\n",
       "  </tbody>\n",
       "</table>\n",
       "</div>"
      ],
      "text/plain": [
       "                tweet_id           timestamp  rating_numerator  \\\n",
       "553   751456908746354688 2016-07-08 16:44:23                12   \n",
       "1275  670840546554966016 2015-11-29 05:43:44                10   \n",
       "351   797545162159308800 2016-11-12 21:02:38                12   \n",
       "217   828650029636317184 2017-02-06 17:02:17                14   \n",
       "1009  683828599284170753 2016-01-04 01:53:37                12   \n",
       "756   710269109699739648 2016-03-17 00:58:46                13   \n",
       "1215  673240798075449344 2015-12-05 20:41:29                 6   \n",
       "1040  681261549936340994 2015-12-27 23:53:05                 9   \n",
       "532   756303284449767430 2016-07-22 01:42:09                11   \n",
       "506   761334018830917632 2016-08-04 22:52:29                10   \n",
       "\n",
       "      rating_denominator     name main_source dog_stage  retweet_count  \\\n",
       "553                   10  No name      iphone    pupper            925   \n",
       "1275                  10    Colby      iphone       NaN            166   \n",
       "351                   10   Cassie      iphone       NaN           4623   \n",
       "217                   10  No name      iphone       NaN           1244   \n",
       "1009                  10  No name      iphone    pupper            973   \n",
       "756                   10  No name      iphone       NaN           1019   \n",
       "1215                  10  No name      iphone       NaN            618   \n",
       "1040                  10    Panda      iphone       NaN            236   \n",
       "532                   10  No name      iphone       NaN           1006   \n",
       "506                   10    Bruce      iphone       NaN           1342   \n",
       "\n",
       "      favorite_count  img_num dog_breed_prediction  prediction_confidence  \n",
       "553             3016        1     golden_retriever               0.714409  \n",
       "1275             524        1             shih_tzu               0.963622  \n",
       "351            13894        1             pembroke               0.954089  \n",
       "217             8971        1     golden_retriever               0.649209  \n",
       "1009            2589        1             malamute               0.577376  \n",
       "756             2205        1                  pug               0.415495  \n",
       "1215            1279        1             airedale               0.443004  \n",
       "1040            1336        1      tibetan_terrier               0.382101  \n",
       "532             3707        1     golden_retriever               0.981652  \n",
       "506             4839        1   norwegian_elkhound               0.822936  "
      ]
     },
     "execution_count": 67,
     "metadata": {},
     "output_type": "execute_result"
    }
   ],
   "source": [
    "df.sample(10)"
   ]
  },
  {
   "cell_type": "markdown",
   "id": "d66ba343",
   "metadata": {},
   "source": [
    "**Test**"
   ]
  },
  {
   "cell_type": "code",
   "execution_count": 68,
   "id": "889ad48d",
   "metadata": {},
   "outputs": [
    {
     "name": "stdout",
     "output_type": "stream",
     "text": [
      "<class 'pandas.core.frame.DataFrame'>\n",
      "Int64Index: 1455 entries, 0 to 1454\n",
      "Data columns (total 12 columns):\n",
      " #   Column                 Non-Null Count  Dtype         \n",
      "---  ------                 --------------  -----         \n",
      " 0   tweet_id               1455 non-null   object        \n",
      " 1   timestamp              1455 non-null   datetime64[ns]\n",
      " 2   rating_numerator       1455 non-null   int64         \n",
      " 3   rating_denominator     1455 non-null   int64         \n",
      " 4   name                   1455 non-null   object        \n",
      " 5   main_source            1455 non-null   object        \n",
      " 6   dog_stage              226 non-null    object        \n",
      " 7   retweet_count          1455 non-null   int64         \n",
      " 8   favorite_count         1455 non-null   int64         \n",
      " 9   img_num                1455 non-null   int64         \n",
      " 10  dog_breed_prediction   1455 non-null   object        \n",
      " 11  prediction_confidence  1455 non-null   float64       \n",
      "dtypes: datetime64[ns](1), float64(1), int64(5), object(5)\n",
      "memory usage: 147.8+ KB\n"
     ]
    }
   ],
   "source": [
    "df.info()"
   ]
  },
  {
   "cell_type": "markdown",
   "id": "2d21682e",
   "metadata": {},
   "source": [
    "## Storing Data\n",
    "Save gathered, assessed, and cleaned master dataset to a CSV file named `\"twitter_archive_master.csv\".`"
   ]
  },
  {
   "cell_type": "code",
   "execution_count": 69,
   "id": "ab7a34e1",
   "metadata": {},
   "outputs": [],
   "source": [
    "df.to_csv('twitter_archive_master.csv', index = False)"
   ]
  },
  {
   "cell_type": "markdown",
   "id": "0d269ed2",
   "metadata": {},
   "source": [
    "## Analyzing and Visualizing Data\n",
    "In this section, analyze and visualize your wrangled data. You must produce at least **three (3) insights and one (1) visualization.**"
   ]
  },
  {
   "cell_type": "code",
   "execution_count": 70,
   "id": "309bbb36",
   "metadata": {},
   "outputs": [
    {
     "data": {
      "text/html": [
       "<div>\n",
       "<style scoped>\n",
       "    .dataframe tbody tr th:only-of-type {\n",
       "        vertical-align: middle;\n",
       "    }\n",
       "\n",
       "    .dataframe tbody tr th {\n",
       "        vertical-align: top;\n",
       "    }\n",
       "\n",
       "    .dataframe thead th {\n",
       "        text-align: right;\n",
       "    }\n",
       "</style>\n",
       "<table border=\"1\" class=\"dataframe\">\n",
       "  <thead>\n",
       "    <tr style=\"text-align: right;\">\n",
       "      <th></th>\n",
       "      <th>tweet_id</th>\n",
       "      <th>timestamp</th>\n",
       "      <th>rating_numerator</th>\n",
       "      <th>rating_denominator</th>\n",
       "      <th>name</th>\n",
       "      <th>main_source</th>\n",
       "      <th>dog_stage</th>\n",
       "      <th>retweet_count</th>\n",
       "      <th>favorite_count</th>\n",
       "      <th>img_num</th>\n",
       "      <th>dog_breed_prediction</th>\n",
       "      <th>prediction_confidence</th>\n",
       "    </tr>\n",
       "  </thead>\n",
       "  <tbody>\n",
       "    <tr>\n",
       "      <th>0</th>\n",
       "      <td>892177421306343426</td>\n",
       "      <td>2017-08-01 00:17:27</td>\n",
       "      <td>13</td>\n",
       "      <td>10</td>\n",
       "      <td>Tilly</td>\n",
       "      <td>iphone</td>\n",
       "      <td>NaN</td>\n",
       "      <td>5302</td>\n",
       "      <td>29343</td>\n",
       "      <td>1</td>\n",
       "      <td>chihuahua</td>\n",
       "      <td>0.323581</td>\n",
       "    </tr>\n",
       "    <tr>\n",
       "      <th>1</th>\n",
       "      <td>891815181378084864</td>\n",
       "      <td>2017-07-31 00:18:03</td>\n",
       "      <td>12</td>\n",
       "      <td>10</td>\n",
       "      <td>Archie</td>\n",
       "      <td>iphone</td>\n",
       "      <td>NaN</td>\n",
       "      <td>3482</td>\n",
       "      <td>22069</td>\n",
       "      <td>1</td>\n",
       "      <td>chihuahua</td>\n",
       "      <td>0.716012</td>\n",
       "    </tr>\n",
       "    <tr>\n",
       "      <th>2</th>\n",
       "      <td>891327558926688256</td>\n",
       "      <td>2017-07-29 16:00:24</td>\n",
       "      <td>12</td>\n",
       "      <td>10</td>\n",
       "      <td>Franklin</td>\n",
       "      <td>iphone</td>\n",
       "      <td>NaN</td>\n",
       "      <td>7765</td>\n",
       "      <td>35323</td>\n",
       "      <td>2</td>\n",
       "      <td>basset</td>\n",
       "      <td>0.555712</td>\n",
       "    </tr>\n",
       "    <tr>\n",
       "      <th>3</th>\n",
       "      <td>891087950875897856</td>\n",
       "      <td>2017-07-29 00:08:17</td>\n",
       "      <td>13</td>\n",
       "      <td>10</td>\n",
       "      <td>No name</td>\n",
       "      <td>iphone</td>\n",
       "      <td>NaN</td>\n",
       "      <td>2602</td>\n",
       "      <td>17815</td>\n",
       "      <td>1</td>\n",
       "      <td>chesapeake_bay_retriever</td>\n",
       "      <td>0.425595</td>\n",
       "    </tr>\n",
       "    <tr>\n",
       "      <th>4</th>\n",
       "      <td>890971913173991426</td>\n",
       "      <td>2017-07-28 16:27:12</td>\n",
       "      <td>13</td>\n",
       "      <td>10</td>\n",
       "      <td>Jax</td>\n",
       "      <td>iphone</td>\n",
       "      <td>NaN</td>\n",
       "      <td>1666</td>\n",
       "      <td>10370</td>\n",
       "      <td>1</td>\n",
       "      <td>appenzeller</td>\n",
       "      <td>0.341703</td>\n",
       "    </tr>\n",
       "  </tbody>\n",
       "</table>\n",
       "</div>"
      ],
      "text/plain": [
       "             tweet_id            timestamp  rating_numerator  \\\n",
       "0  892177421306343426  2017-08-01 00:17:27                13   \n",
       "1  891815181378084864  2017-07-31 00:18:03                12   \n",
       "2  891327558926688256  2017-07-29 16:00:24                12   \n",
       "3  891087950875897856  2017-07-29 00:08:17                13   \n",
       "4  890971913173991426  2017-07-28 16:27:12                13   \n",
       "\n",
       "   rating_denominator      name main_source dog_stage  retweet_count  \\\n",
       "0                  10     Tilly      iphone       NaN           5302   \n",
       "1                  10    Archie      iphone       NaN           3482   \n",
       "2                  10  Franklin      iphone       NaN           7765   \n",
       "3                  10   No name      iphone       NaN           2602   \n",
       "4                  10       Jax      iphone       NaN           1666   \n",
       "\n",
       "   favorite_count  img_num      dog_breed_prediction  prediction_confidence  \n",
       "0           29343        1                 chihuahua               0.323581  \n",
       "1           22069        1                 chihuahua               0.716012  \n",
       "2           35323        2                    basset               0.555712  \n",
       "3           17815        1  chesapeake_bay_retriever               0.425595  \n",
       "4           10370        1               appenzeller               0.341703  "
      ]
     },
     "execution_count": 70,
     "metadata": {},
     "output_type": "execute_result"
    }
   ],
   "source": [
    "master=pd.read_csv('twitter_archive_master.csv')\n",
    "master.head()"
   ]
  },
  {
   "cell_type": "code",
   "execution_count": 71,
   "id": "4f8c52b3",
   "metadata": {},
   "outputs": [
    {
     "name": "stdout",
     "output_type": "stream",
     "text": [
      "<class 'pandas.core.frame.DataFrame'>\n",
      "RangeIndex: 1455 entries, 0 to 1454\n",
      "Data columns (total 12 columns):\n",
      " #   Column                 Non-Null Count  Dtype  \n",
      "---  ------                 --------------  -----  \n",
      " 0   tweet_id               1455 non-null   int64  \n",
      " 1   timestamp              1455 non-null   object \n",
      " 2   rating_numerator       1455 non-null   int64  \n",
      " 3   rating_denominator     1455 non-null   int64  \n",
      " 4   name                   1455 non-null   object \n",
      " 5   main_source            1455 non-null   object \n",
      " 6   dog_stage              226 non-null    object \n",
      " 7   retweet_count          1455 non-null   int64  \n",
      " 8   favorite_count         1455 non-null   int64  \n",
      " 9   img_num                1455 non-null   int64  \n",
      " 10  dog_breed_prediction   1455 non-null   object \n",
      " 11  prediction_confidence  1455 non-null   float64\n",
      "dtypes: float64(1), int64(6), object(5)\n",
      "memory usage: 136.5+ KB\n"
     ]
    }
   ],
   "source": [
    "master.info()"
   ]
  },
  {
   "cell_type": "code",
   "execution_count": 72,
   "id": "b978e1d5",
   "metadata": {},
   "outputs": [],
   "source": [
    "master['tweet_id']=master['tweet_id'].astype(str)\n",
    "master['timestamp'] = master['timestamp'].astype('datetime64[ns]')"
   ]
  },
  {
   "cell_type": "code",
   "execution_count": 73,
   "id": "21c30e48",
   "metadata": {},
   "outputs": [
    {
     "name": "stdout",
     "output_type": "stream",
     "text": [
      "<class 'pandas.core.frame.DataFrame'>\n",
      "RangeIndex: 1455 entries, 0 to 1454\n",
      "Data columns (total 12 columns):\n",
      " #   Column                 Non-Null Count  Dtype         \n",
      "---  ------                 --------------  -----         \n",
      " 0   tweet_id               1455 non-null   object        \n",
      " 1   timestamp              1455 non-null   datetime64[ns]\n",
      " 2   rating_numerator       1455 non-null   int64         \n",
      " 3   rating_denominator     1455 non-null   int64         \n",
      " 4   name                   1455 non-null   object        \n",
      " 5   main_source            1455 non-null   object        \n",
      " 6   dog_stage              226 non-null    object        \n",
      " 7   retweet_count          1455 non-null   int64         \n",
      " 8   favorite_count         1455 non-null   int64         \n",
      " 9   img_num                1455 non-null   int64         \n",
      " 10  dog_breed_prediction   1455 non-null   object        \n",
      " 11  prediction_confidence  1455 non-null   float64       \n",
      "dtypes: datetime64[ns](1), float64(1), int64(5), object(5)\n",
      "memory usage: 136.5+ KB\n"
     ]
    }
   ],
   "source": [
    "master.info()"
   ]
  },
  {
   "cell_type": "code",
   "execution_count": 74,
   "id": "1f4d9934",
   "metadata": {},
   "outputs": [
    {
     "data": {
      "text/html": [
       "<div>\n",
       "<style scoped>\n",
       "    .dataframe tbody tr th:only-of-type {\n",
       "        vertical-align: middle;\n",
       "    }\n",
       "\n",
       "    .dataframe tbody tr th {\n",
       "        vertical-align: top;\n",
       "    }\n",
       "\n",
       "    .dataframe thead th {\n",
       "        text-align: right;\n",
       "    }\n",
       "</style>\n",
       "<table border=\"1\" class=\"dataframe\">\n",
       "  <thead>\n",
       "    <tr style=\"text-align: right;\">\n",
       "      <th></th>\n",
       "      <th>rating_numerator</th>\n",
       "      <th>rating_denominator</th>\n",
       "      <th>retweet_count</th>\n",
       "      <th>favorite_count</th>\n",
       "      <th>img_num</th>\n",
       "      <th>prediction_confidence</th>\n",
       "    </tr>\n",
       "  </thead>\n",
       "  <tbody>\n",
       "    <tr>\n",
       "      <th>count</th>\n",
       "      <td>1455.000000</td>\n",
       "      <td>1455.000000</td>\n",
       "      <td>1455.000000</td>\n",
       "      <td>1455.000000</td>\n",
       "      <td>1455.000000</td>\n",
       "      <td>1455.000000</td>\n",
       "    </tr>\n",
       "    <tr>\n",
       "      <th>mean</th>\n",
       "      <td>11.465292</td>\n",
       "      <td>10.460481</td>\n",
       "      <td>2261.508591</td>\n",
       "      <td>8045.643986</td>\n",
       "      <td>1.213058</td>\n",
       "      <td>0.614492</td>\n",
       "    </tr>\n",
       "    <tr>\n",
       "      <th>std</th>\n",
       "      <td>7.156532</td>\n",
       "      <td>6.148410</td>\n",
       "      <td>4115.398569</td>\n",
       "      <td>11733.710654</td>\n",
       "      <td>0.574535</td>\n",
       "      <td>0.260242</td>\n",
       "    </tr>\n",
       "    <tr>\n",
       "      <th>min</th>\n",
       "      <td>1.000000</td>\n",
       "      <td>2.000000</td>\n",
       "      <td>11.000000</td>\n",
       "      <td>66.000000</td>\n",
       "      <td>1.000000</td>\n",
       "      <td>0.044333</td>\n",
       "    </tr>\n",
       "    <tr>\n",
       "      <th>25%</th>\n",
       "      <td>10.000000</td>\n",
       "      <td>10.000000</td>\n",
       "      <td>523.000000</td>\n",
       "      <td>1849.000000</td>\n",
       "      <td>1.000000</td>\n",
       "      <td>0.392321</td>\n",
       "    </tr>\n",
       "    <tr>\n",
       "      <th>50%</th>\n",
       "      <td>11.000000</td>\n",
       "      <td>10.000000</td>\n",
       "      <td>1142.000000</td>\n",
       "      <td>3800.000000</td>\n",
       "      <td>1.000000</td>\n",
       "      <td>0.615678</td>\n",
       "    </tr>\n",
       "    <tr>\n",
       "      <th>75%</th>\n",
       "      <td>12.000000</td>\n",
       "      <td>10.000000</td>\n",
       "      <td>2599.500000</td>\n",
       "      <td>10028.500000</td>\n",
       "      <td>1.000000</td>\n",
       "      <td>0.853227</td>\n",
       "    </tr>\n",
       "    <tr>\n",
       "      <th>max</th>\n",
       "      <td>165.000000</td>\n",
       "      <td>150.000000</td>\n",
       "      <td>70786.000000</td>\n",
       "      <td>144955.000000</td>\n",
       "      <td>4.000000</td>\n",
       "      <td>0.999956</td>\n",
       "    </tr>\n",
       "  </tbody>\n",
       "</table>\n",
       "</div>"
      ],
      "text/plain": [
       "       rating_numerator  rating_denominator  retweet_count  favorite_count  \\\n",
       "count       1455.000000         1455.000000    1455.000000     1455.000000   \n",
       "mean          11.465292           10.460481    2261.508591     8045.643986   \n",
       "std            7.156532            6.148410    4115.398569    11733.710654   \n",
       "min            1.000000            2.000000      11.000000       66.000000   \n",
       "25%           10.000000           10.000000     523.000000     1849.000000   \n",
       "50%           11.000000           10.000000    1142.000000     3800.000000   \n",
       "75%           12.000000           10.000000    2599.500000    10028.500000   \n",
       "max          165.000000          150.000000   70786.000000   144955.000000   \n",
       "\n",
       "           img_num  prediction_confidence  \n",
       "count  1455.000000            1455.000000  \n",
       "mean      1.213058               0.614492  \n",
       "std       0.574535               0.260242  \n",
       "min       1.000000               0.044333  \n",
       "25%       1.000000               0.392321  \n",
       "50%       1.000000               0.615678  \n",
       "75%       1.000000               0.853227  \n",
       "max       4.000000               0.999956  "
      ]
     },
     "execution_count": 74,
     "metadata": {},
     "output_type": "execute_result"
    }
   ],
   "source": [
    "master.describe()"
   ]
  },
  {
   "cell_type": "code",
   "execution_count": 75,
   "id": "4ebf7426",
   "metadata": {},
   "outputs": [
    {
     "data": {
      "text/plain": [
       "(1455, 12)"
      ]
     },
     "execution_count": 75,
     "metadata": {},
     "output_type": "execute_result"
    }
   ],
   "source": [
    "master.shape"
   ]
  },
  {
   "cell_type": "code",
   "execution_count": 76,
   "id": "61e93267",
   "metadata": {},
   "outputs": [
    {
     "data": {
      "text/plain": [
       "tweet_id                    0\n",
       "timestamp                   0\n",
       "rating_numerator            0\n",
       "rating_denominator          0\n",
       "name                        0\n",
       "main_source                 0\n",
       "dog_stage                1229\n",
       "retweet_count               0\n",
       "favorite_count              0\n",
       "img_num                     0\n",
       "dog_breed_prediction        0\n",
       "prediction_confidence       0\n",
       "dtype: int64"
      ]
     },
     "execution_count": 76,
     "metadata": {},
     "output_type": "execute_result"
    }
   ],
   "source": [
    "master.isna().sum()"
   ]
  },
  {
   "cell_type": "code",
   "execution_count": 77,
   "id": "2be01ae4",
   "metadata": {},
   "outputs": [
    {
     "data": {
      "text/plain": [
       "0"
      ]
     },
     "execution_count": 77,
     "metadata": {},
     "output_type": "execute_result"
    }
   ],
   "source": [
    "master.duplicated().sum()"
   ]
  },
  {
   "cell_type": "markdown",
   "id": "d1681cbc",
   "metadata": {},
   "source": [
    "### Issue #8:\n",
    "**Define**\n",
    "* dealing with outliers in rating_numerator "
   ]
  },
  {
   "cell_type": "markdown",
   "id": "8b7476ab",
   "metadata": {},
   "source": [
    "**Code**"
   ]
  },
  {
   "cell_type": "code",
   "execution_count": 78,
   "id": "0ca80ac3",
   "metadata": {},
   "outputs": [],
   "source": [
    "\n",
    "def func(x):\n",
    "    outlier= []\n",
    "    max = x.max()\n",
    "    min = x.min()\n",
    "    mean = x.mean()\n",
    "    sort = x.sort_values()\n",
    "    median =sort.median()\n",
    "    Q1,Q3 = np.percentile(sort,[25,75])\n",
    "    IQR = Q3-Q1\n",
    "    LB = Q1 - (1.5*IQR)\n",
    "    UB = Q1 + (1.5*IQR)\n",
    "    \n",
    "    for i in x:\n",
    "        if i< LB or i>UB:\n",
    "            outlier.append(i)\n",
    "            \n",
    "    \n",
    "    print({'min =': min,'max =': max, 'mean =': mean,'median =' : median,'quantile 1 =': Q1,'quantile 3 =': Q3,\n",
    "           'lower_bound =': LB,'upper_bound =': UB},outlier,len(outlier))\n",
    " \n",
    "\n",
    "\n"
   ]
  },
  {
   "cell_type": "code",
   "execution_count": 79,
   "id": "3e36d072",
   "metadata": {},
   "outputs": [
    {
     "name": "stdout",
     "output_type": "stream",
     "text": [
      "{'min =': 2, 'max =': 150, 'mean =': 10.460481099656358, 'median =': 10.0, 'quantile 1 =': 10.0, 'quantile 3 =': 10.0, 'lower_bound =': 10.0, 'upper_bound =': 10.0} [70, 7, 150, 11, 20, 50, 90, 80, 50, 50, 40, 110, 80, 2] 14\n"
     ]
    }
   ],
   "source": [
    "func(master.rating_denominator)"
   ]
  },
  {
   "cell_type": "code",
   "execution_count": 80,
   "id": "2a94dbc3",
   "metadata": {},
   "outputs": [],
   "source": [
    "# From Above its obsever there are 23 outliers and will be dropping them\n",
    "master.drop(master[master.rating_denominator != 10].index, inplace = True)"
   ]
  },
  {
   "cell_type": "markdown",
   "id": "467cbff3",
   "metadata": {},
   "source": [
    "**Test**"
   ]
  },
  {
   "cell_type": "code",
   "execution_count": 81,
   "id": "fa749c93",
   "metadata": {},
   "outputs": [
    {
     "name": "stdout",
     "output_type": "stream",
     "text": [
      "{'min =': 10, 'max =': 10, 'mean =': 10.0, 'median =': 10.0, 'quantile 1 =': 10.0, 'quantile 3 =': 10.0, 'lower_bound =': 10.0, 'upper_bound =': 10.0} [] 0\n"
     ]
    }
   ],
   "source": [
    "func(master.rating_denominator)"
   ]
  },
  {
   "cell_type": "markdown",
   "id": "144b83f9",
   "metadata": {},
   "source": [
    "### Issue #9:\n",
    "**Define**\n",
    "* dealing with outliers in rating_numerator"
   ]
  },
  {
   "cell_type": "markdown",
   "id": "6810d950",
   "metadata": {},
   "source": [
    "**Code**"
   ]
  },
  {
   "cell_type": "code",
   "execution_count": 82,
   "id": "58d57e54",
   "metadata": {},
   "outputs": [
    {
     "name": "stdout",
     "output_type": "stream",
     "text": [
      "{'min =': 2, 'max =': 75, 'mean =': 10.970159611380986, 'median =': 11.0, 'quantile 1 =': 10.0, 'quantile 3 =': 12.0, 'lower_bound =': 7.0, 'upper_bound =': 13.0} [14, 14, 5, 14, 14, 14, 14, 6, 14, 14, 14, 14, 14, 14, 14, 14, 14, 14, 14, 75, 5, 14, 27, 3, 14, 5, 4, 6, 3, 6, 5, 4, 26, 2, 6, 5, 5, 6, 5, 6, 6, 5, 6, 6, 3, 5, 6, 4, 4, 6, 5, 6] 52\n"
     ]
    }
   ],
   "source": [
    "func(master.rating_numerator)"
   ]
  },
  {
   "cell_type": "code",
   "execution_count": 83,
   "id": "a51dbfde",
   "metadata": {},
   "outputs": [],
   "source": [
    "# From Above its obsever there are 188 outliers and will be dropping them\n",
    "master.drop(master[master.rating_numerator < 7].index, inplace = True)\n",
    "master.drop(master[master.rating_numerator > 14].index, inplace = True)"
   ]
  },
  {
   "cell_type": "markdown",
   "id": "2aa60493",
   "metadata": {},
   "source": [
    "**Test**"
   ]
  },
  {
   "cell_type": "code",
   "execution_count": 84,
   "id": "32c84382",
   "metadata": {},
   "outputs": [
    {
     "data": {
      "text/plain": [
       "12    376\n",
       "10    316\n",
       "11    305\n",
       "13    204\n",
       "9     106\n",
       "8      58\n",
       "7      24\n",
       "14     19\n",
       "Name: rating_numerator, dtype: int64"
      ]
     },
     "execution_count": 84,
     "metadata": {},
     "output_type": "execute_result"
    }
   ],
   "source": [
    "master.rating_numerator.value_counts()"
   ]
  },
  {
   "cell_type": "code",
   "execution_count": 85,
   "id": "8b2ec740",
   "metadata": {},
   "outputs": [
    {
     "name": "stdout",
     "output_type": "stream",
     "text": [
      "{'min =': 7, 'max =': 14, 'mean =': 11.030539772727273, 'median =': 11.0, 'quantile 1 =': 10.0, 'quantile 3 =': 12.0, 'lower_bound =': 7.0, 'upper_bound =': 13.0} [14, 14, 14, 14, 14, 14, 14, 14, 14, 14, 14, 14, 14, 14, 14, 14, 14, 14, 14] 19\n"
     ]
    }
   ],
   "source": [
    "func(master. rating_numerator)"
   ]
  },
  {
   "cell_type": "code",
   "execution_count": 86,
   "id": "5985f3a2",
   "metadata": {},
   "outputs": [
    {
     "data": {
      "text/html": [
       "<div>\n",
       "<style scoped>\n",
       "    .dataframe tbody tr th:only-of-type {\n",
       "        vertical-align: middle;\n",
       "    }\n",
       "\n",
       "    .dataframe tbody tr th {\n",
       "        vertical-align: top;\n",
       "    }\n",
       "\n",
       "    .dataframe thead th {\n",
       "        text-align: right;\n",
       "    }\n",
       "</style>\n",
       "<table border=\"1\" class=\"dataframe\">\n",
       "  <thead>\n",
       "    <tr style=\"text-align: right;\">\n",
       "      <th></th>\n",
       "      <th>tweet_id</th>\n",
       "      <th>timestamp</th>\n",
       "      <th>rating_numerator</th>\n",
       "      <th>rating_denominator</th>\n",
       "      <th>name</th>\n",
       "      <th>main_source</th>\n",
       "      <th>dog_stage</th>\n",
       "      <th>retweet_count</th>\n",
       "      <th>favorite_count</th>\n",
       "      <th>img_num</th>\n",
       "      <th>dog_breed_prediction</th>\n",
       "      <th>prediction_confidence</th>\n",
       "    </tr>\n",
       "  </thead>\n",
       "  <tbody>\n",
       "    <tr>\n",
       "      <th>0</th>\n",
       "      <td>892177421306343426</td>\n",
       "      <td>2017-08-01 00:17:27</td>\n",
       "      <td>13</td>\n",
       "      <td>10</td>\n",
       "      <td>Tilly</td>\n",
       "      <td>iphone</td>\n",
       "      <td>NaN</td>\n",
       "      <td>5302</td>\n",
       "      <td>29343</td>\n",
       "      <td>1</td>\n",
       "      <td>chihuahua</td>\n",
       "      <td>0.323581</td>\n",
       "    </tr>\n",
       "    <tr>\n",
       "      <th>1</th>\n",
       "      <td>891815181378084864</td>\n",
       "      <td>2017-07-31 00:18:03</td>\n",
       "      <td>12</td>\n",
       "      <td>10</td>\n",
       "      <td>Archie</td>\n",
       "      <td>iphone</td>\n",
       "      <td>NaN</td>\n",
       "      <td>3482</td>\n",
       "      <td>22069</td>\n",
       "      <td>1</td>\n",
       "      <td>chihuahua</td>\n",
       "      <td>0.716012</td>\n",
       "    </tr>\n",
       "    <tr>\n",
       "      <th>2</th>\n",
       "      <td>891327558926688256</td>\n",
       "      <td>2017-07-29 16:00:24</td>\n",
       "      <td>12</td>\n",
       "      <td>10</td>\n",
       "      <td>Franklin</td>\n",
       "      <td>iphone</td>\n",
       "      <td>NaN</td>\n",
       "      <td>7765</td>\n",
       "      <td>35323</td>\n",
       "      <td>2</td>\n",
       "      <td>basset</td>\n",
       "      <td>0.555712</td>\n",
       "    </tr>\n",
       "    <tr>\n",
       "      <th>3</th>\n",
       "      <td>891087950875897856</td>\n",
       "      <td>2017-07-29 00:08:17</td>\n",
       "      <td>13</td>\n",
       "      <td>10</td>\n",
       "      <td>No name</td>\n",
       "      <td>iphone</td>\n",
       "      <td>NaN</td>\n",
       "      <td>2602</td>\n",
       "      <td>17815</td>\n",
       "      <td>1</td>\n",
       "      <td>chesapeake_bay_retriever</td>\n",
       "      <td>0.425595</td>\n",
       "    </tr>\n",
       "    <tr>\n",
       "      <th>4</th>\n",
       "      <td>890971913173991426</td>\n",
       "      <td>2017-07-28 16:27:12</td>\n",
       "      <td>13</td>\n",
       "      <td>10</td>\n",
       "      <td>Jax</td>\n",
       "      <td>iphone</td>\n",
       "      <td>NaN</td>\n",
       "      <td>1666</td>\n",
       "      <td>10370</td>\n",
       "      <td>1</td>\n",
       "      <td>appenzeller</td>\n",
       "      <td>0.341703</td>\n",
       "    </tr>\n",
       "  </tbody>\n",
       "</table>\n",
       "</div>"
      ],
      "text/plain": [
       "             tweet_id           timestamp  rating_numerator  \\\n",
       "0  892177421306343426 2017-08-01 00:17:27                13   \n",
       "1  891815181378084864 2017-07-31 00:18:03                12   \n",
       "2  891327558926688256 2017-07-29 16:00:24                12   \n",
       "3  891087950875897856 2017-07-29 00:08:17                13   \n",
       "4  890971913173991426 2017-07-28 16:27:12                13   \n",
       "\n",
       "   rating_denominator      name main_source dog_stage  retweet_count  \\\n",
       "0                  10     Tilly      iphone       NaN           5302   \n",
       "1                  10    Archie      iphone       NaN           3482   \n",
       "2                  10  Franklin      iphone       NaN           7765   \n",
       "3                  10   No name      iphone       NaN           2602   \n",
       "4                  10       Jax      iphone       NaN           1666   \n",
       "\n",
       "   favorite_count  img_num      dog_breed_prediction  prediction_confidence  \n",
       "0           29343        1                 chihuahua               0.323581  \n",
       "1           22069        1                 chihuahua               0.716012  \n",
       "2           35323        2                    basset               0.555712  \n",
       "3           17815        1  chesapeake_bay_retriever               0.425595  \n",
       "4           10370        1               appenzeller               0.341703  "
      ]
     },
     "execution_count": 86,
     "metadata": {},
     "output_type": "execute_result"
    }
   ],
   "source": [
    "master.head()"
   ]
  },
  {
   "cell_type": "code",
   "execution_count": 87,
   "id": "7bfa7164",
   "metadata": {},
   "outputs": [
    {
     "name": "stdout",
     "output_type": "stream",
     "text": [
      "<class 'pandas.core.frame.DataFrame'>\n",
      "Int64Index: 1408 entries, 0 to 1454\n",
      "Data columns (total 12 columns):\n",
      " #   Column                 Non-Null Count  Dtype         \n",
      "---  ------                 --------------  -----         \n",
      " 0   tweet_id               1408 non-null   object        \n",
      " 1   timestamp              1408 non-null   datetime64[ns]\n",
      " 2   rating_numerator       1408 non-null   int64         \n",
      " 3   rating_denominator     1408 non-null   int64         \n",
      " 4   name                   1408 non-null   object        \n",
      " 5   main_source            1408 non-null   object        \n",
      " 6   dog_stage              224 non-null    object        \n",
      " 7   retweet_count          1408 non-null   int64         \n",
      " 8   favorite_count         1408 non-null   int64         \n",
      " 9   img_num                1408 non-null   int64         \n",
      " 10  dog_breed_prediction   1408 non-null   object        \n",
      " 11  prediction_confidence  1408 non-null   float64       \n",
      "dtypes: datetime64[ns](1), float64(1), int64(5), object(5)\n",
      "memory usage: 143.0+ KB\n"
     ]
    }
   ],
   "source": [
    "master.info()"
   ]
  },
  {
   "cell_type": "markdown",
   "id": "ac5dbc8e",
   "metadata": {},
   "source": [
    "## Analyzing and Visualizing Data"
   ]
  },
  {
   "cell_type": "markdown",
   "id": "1b2283d8",
   "metadata": {},
   "source": [
    "### Insights:\n",
    "\n",
    "1. Most used Twitter source\n",
    "\n",
    "2. Dog Rating distribution\n",
    "\n",
    "3. Retweeting and Favoriting trend over time\n",
    "\n",
    "4. Top 6 common dog names\n",
    "\n",
    "5. Most Popular Dog_stage\n",
    "\n",
    "6. Dog stage with the higest image post\n",
    "\n",
    "7. Top 10 common dog_breed_prediction"
   ]
  },
  {
   "cell_type": "markdown",
   "id": "d90f8a50",
   "metadata": {},
   "source": [
    "### Visualization"
   ]
  },
  {
   "cell_type": "markdown",
   "id": "d365798b",
   "metadata": {},
   "source": [
    "**1. Most used Twitter source**"
   ]
  },
  {
   "cell_type": "code",
   "execution_count": 88,
   "id": "69619b56",
   "metadata": {},
   "outputs": [
    {
     "data": {
      "text/plain": [
       "iphone       1383\n",
       "Vine           19\n",
       "tweetdeck       6\n",
       "Name: main_source, dtype: int64"
      ]
     },
     "execution_count": 88,
     "metadata": {},
     "output_type": "execute_result"
    }
   ],
   "source": [
    "master['main_source'].value_counts()"
   ]
  },
  {
   "cell_type": "code",
   "execution_count": 89,
   "id": "984a9b88",
   "metadata": {},
   "outputs": [
    {
     "data": {
      "image/png": "[encoded data removed]",
      "text/plain": [
       "<Figure size 720x432 with 1 Axes>"
      ]
     },
     "metadata": {},
     "output_type": "display_data"
    }
   ],
   "source": [
    "master['main_source'].value_counts().plot(kind='pie',figsize = (10,6));"
   ]
  },
  {
   "cell_type": "markdown",
   "id": "a560060c",
   "metadata": {},
   "source": [
    "WeRateDogs has posted 98% of the tweets from iPhone."
   ]
  },
  {
   "cell_type": "markdown",
   "id": "73de933f",
   "metadata": {},
   "source": [
    "**2. Dog Rating distribution**"
   ]
  },
  {
   "cell_type": "code",
   "execution_count": 90,
   "id": "c3c3e349",
   "metadata": {},
   "outputs": [
    {
     "data": {
      "image/png": "[encoded data removed]",
      "text/plain": [
       "<Figure size 720x432 with 1 Axes>"
      ]
     },
     "metadata": {
      "needs_background": "light"
     },
     "output_type": "display_data"
    }
   ],
   "source": [
    "ax = master.rating_numerator.value_counts().sort_index().plot.bar(width=0.6,edgecolor='red',facecolor='lightblue',figsize=(10,6),title='Dog Rating distribution')\n",
    "ax.set_ylabel(\"Number of Dogs\")\n",
    "ax.set_yticks([0, 50, 100, 150, 200, 250, 300, 350, 400, 450]);"
   ]
  },
  {
   "cell_type": "markdown",
   "id": "a9efa544",
   "metadata": {},
   "source": [
    "**3. Retweeting and Favoriting trend over time**"
   ]
  },
  {
   "cell_type": "code",
   "execution_count": 91,
   "id": "0d121ccb",
   "metadata": {},
   "outputs": [
    {
     "data": {
      "image/png": "[encoded data removed]",
      "text/plain": [
       "<Figure size 720x432 with 1 Axes>"
      ]
     },
     "metadata": {
      "needs_background": "light"
     },
     "output_type": "display_data"
    }
   ],
   "source": [
    "plt.subplots(1, sharex=True,figsize = (10,6))\n",
    "master.retweet_count.groupby([master[\"timestamp\"].dt.year, master[\"timestamp\"].dt.month]).mean().plot(kind='line')\n",
    "master.favorite_count.groupby([master[\"timestamp\"].dt.year, master[\"timestamp\"].dt.month]).mean().plot(kind='line').set_ylim(0, )\n",
    "plt.title('Retweeting and Favoriting trend over time')\n",
    "plt.ylabel('Count')\n",
    "plt.xlabel('(Year, Month)')\n",
    "plt.legend(('Retweets', 'Favorites'));"
   ]
  },
  {
   "cell_type": "markdown",
   "id": "a2a3ad32",
   "metadata": {},
   "source": [
    "**4. Top 6 common dog names**"
   ]
  },
  {
   "cell_type": "code",
   "execution_count": 92,
   "id": "8c4581b6",
   "metadata": {},
   "outputs": [
    {
     "data": {
      "text/plain": [
       "Cooper     10\n",
       "Oliver      9\n",
       "Charlie     9\n",
       "Tucker      8\n",
       "Sadie       7\n",
       "Lucy        7\n",
       "Name: name, dtype: int64"
      ]
     },
     "execution_count": 92,
     "metadata": {},
     "output_type": "execute_result"
    }
   ],
   "source": [
    "master.name.value_counts()[1:7]"
   ]
  },
  {
   "cell_type": "code",
   "execution_count": 93,
   "id": "8757831c",
   "metadata": {},
   "outputs": [
    {
     "data": {
      "image/png": "[encoded data removed]",
      "text/plain": [
       "<Figure size 720x432 with 1 Axes>"
      ]
     },
     "metadata": {
      "needs_background": "light"
     },
     "output_type": "display_data"
    }
   ],
   "source": [
    "master.name.value_counts()[1:7].plot.barh(width=0.6,edgecolor='red',facecolor='lightblue',figsize=(10,6),title='Top 6 common dog names').set_xlabel(\"Number of Dogs\");"
   ]
  },
  {
   "cell_type": "markdown",
   "id": "6d9d3108",
   "metadata": {},
   "source": [
    "**5. Most Popular Dog_stage**"
   ]
  },
  {
   "cell_type": "code",
   "execution_count": 94,
   "id": "63054590",
   "metadata": {},
   "outputs": [
    {
     "data": {
      "text/plain": [
       "dog_stage\n",
       "doggo          47\n",
       "floofer         7\n",
       "multiclass      8\n",
       "pupper        143\n",
       "puppo          19\n",
       "Name: favorite_count, dtype: int64"
      ]
     },
     "execution_count": 94,
     "metadata": {},
     "output_type": "execute_result"
    }
   ],
   "source": [
    "master.groupby('dog_stage')['favorite_count'].count()"
   ]
  },
  {
   "cell_type": "code",
   "execution_count": 95,
   "id": "3185a3e5",
   "metadata": {},
   "outputs": [
    {
     "data": {
      "image/png": "[encoded data removed]",
      "text/plain": [
       "<Figure size 720x432 with 1 Axes>"
      ]
     },
     "metadata": {
      "needs_background": "light"
     },
     "output_type": "display_data"
    }
   ],
   "source": [
    "master.groupby('dog_stage')['favorite_count'].count().plot.bar(width=0.6,edgecolor='red',facecolor='lightblue',title='Most Popular Dog_stage',figsize=(10,6));"
   ]
  },
  {
   "cell_type": "markdown",
   "id": "d197388e",
   "metadata": {},
   "source": [
    "**6. Dog stage with the higest image post**"
   ]
  },
  {
   "cell_type": "code",
   "execution_count": 96,
   "id": "50588369",
   "metadata": {},
   "outputs": [
    {
     "data": {
      "text/plain": [
       "dog_stage\n",
       "doggo          47\n",
       "floofer         7\n",
       "multiclass      8\n",
       "pupper        143\n",
       "puppo          19\n",
       "Name: img_num, dtype: int64"
      ]
     },
     "execution_count": 96,
     "metadata": {},
     "output_type": "execute_result"
    }
   ],
   "source": [
    "master.groupby('dog_stage')['img_num'].count()"
   ]
  },
  {
   "cell_type": "code",
   "execution_count": 97,
   "id": "eefba2e8",
   "metadata": {},
   "outputs": [
    {
     "data": {
      "image/png": "[encoded data removed]",
      "text/plain": [
       "<Figure size 720x432 with 1 Axes>"
      ]
     },
     "metadata": {
      "needs_background": "light"
     },
     "output_type": "display_data"
    }
   ],
   "source": [
    "master.groupby('dog_stage')['img_num'].count().plot.bar(width=0.6,edgecolor='red',facecolor='lightblue',title='Dog stage with the higest image post',figsize=(10,6));"
   ]
  },
  {
   "cell_type": "markdown",
   "id": "e0b825a8",
   "metadata": {},
   "source": [
    "**7. Top 10 common dog_breed_prediction**"
   ]
  },
  {
   "cell_type": "code",
   "execution_count": 98,
   "id": "e79b4db8",
   "metadata": {},
   "outputs": [
    {
     "data": {
      "text/plain": [
       "labrador_retriever    88\n",
       "pembroke              85\n",
       "chihuahua             76\n",
       "pug                   52\n",
       "chow                  41\n",
       "samoyed               39\n",
       "pomeranian            37\n",
       "toy_poodle            36\n",
       "malamute              29\n",
       "cocker_spaniel        27\n",
       "Name: dog_breed_prediction, dtype: int64"
      ]
     },
     "execution_count": 98,
     "metadata": {},
     "output_type": "execute_result"
    }
   ],
   "source": [
    "master.dog_breed_prediction.value_counts()[1:11]"
   ]
  },
  {
   "cell_type": "code",
   "execution_count": 99,
   "id": "f121f0e7",
   "metadata": {},
   "outputs": [
    {
     "data": {
      "image/png": "[encoded data removed]",
      "text/plain": [
       "<Figure size 720x432 with 1 Axes>"
      ]
     },
     "metadata": {
      "needs_background": "light"
     },
     "output_type": "display_data"
    }
   ],
   "source": [
    "master.dog_breed_prediction.value_counts()[1:11].plot.barh(width=0.6,edgecolor='red',facecolor='lightblue',figsize=(10,6),title='Top 10 dog_bred_prediction').set_xlabel(\"Number of Dogs\");"
   ]
  },
  {
   "cell_type": "code",
   "execution_count": null,
   "id": "2870c3de",
   "metadata": {},
   "outputs": [],
   "source": []
  },
  {
   "cell_type": "code",
   "execution_count": null,
   "id": "9c57563e",
   "metadata": {},
   "outputs": [],
   "source": []
  },
  {
   "cell_type": "code",
   "execution_count": null,
   "id": "5e4bcf09",
   "metadata": {},
   "outputs": [],
   "source": []
  },
  {
   "cell_type": "code",
   "execution_count": null,
   "id": "2c823476",
   "metadata": {},
   "outputs": [],
   "source": []
  },
  {
   "cell_type": "code",
   "execution_count": null,
   "id": "37c4b7ca",
   "metadata": {},
   "outputs": [],
   "source": []
  },
  {
   "cell_type": "code",
   "execution_count": null,
   "id": "3980eb70",
   "metadata": {},
   "outputs": [],
   "source": []
  }
 ],
 "metadata": {
  "kernelspec": {
   "display_name": "Python 3 (ipykernel)",
   "language": "python",
   "name": "python3"
  },
  "language_info": {
   "codemirror_mode": {
    "name": "ipython",
    "version": 3
   },
   "file_extension": ".py",
   "mimetype": "text/x-python",
   "name": "python",
   "nbconvert_exporter": "python",
   "pygments_lexer": "ipython3",
   "version": "3.10.4"
  }
 },
 "nbformat": 4,
 "nbformat_minor": 5
}
